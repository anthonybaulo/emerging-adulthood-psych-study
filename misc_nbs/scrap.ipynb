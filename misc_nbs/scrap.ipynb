{
 "cells": [
  {
   "cell_type": "code",
   "execution_count": 13,
   "metadata": {},
   "outputs": [],
   "source": [
    "import pandas as pd\n",
    "import numpy as np"
   ]
  },
  {
   "cell_type": "code",
   "execution_count": 9,
   "metadata": {},
   "outputs": [],
   "source": [
    "# From https://towardsdatascience.com/k-means-clustering-algorithm-applications-evaluation-methods-and-drawbacks-aa03e644b48a\n",
    "\n",
    "def plot_sil(X, ks):\n",
    "    for i, k in enumerate(ks):\n",
    "        fig, (ax1, ax2) = plt.subplots(1, 2, figsize=(12,6))\n",
    "\n",
    "        # Run the Kmeans algorithm\n",
    "        km = KMeans(n_clusters=k)\n",
    "        labels = km.fit_predict(X)\n",
    "        centroids = km.cluster_centers_\n",
    "\n",
    "        # Get silhouette samples\n",
    "        silhouette_vals = silhouette_samples(df, labels)\n",
    "\n",
    "        # Silhouette plot\n",
    "        y_ticks = []\n",
    "        y_lower, y_upper = 0, 0\n",
    "        for i, cluster in enumerate(np.unique(labels)):\n",
    "            cluster_silhouette_vals = silhouette_vals[labels == cluster]\n",
    "            cluster_silhouette_vals.sort()\n",
    "            y_upper += len(cluster_silhouette_vals)\n",
    "            ax1.barh(range(y_lower, y_upper), cluster_silhouette_vals, edgecolor='none', height=1)\n",
    "            ax1.text(-0.03, (y_lower + y_upper) / 2, str(i + 1))\n",
    "            y_lower += len(cluster_silhouette_vals)\n",
    "\n",
    "        # Get the average silhouette score and plot it\n",
    "        avg_score = np.mean(silhouette_vals)\n",
    "        ax1.axvline(avg_score, linestyle='--', linewidth=2, color='green')\n",
    "        ax1.set_yticks([])\n",
    "        ax1.set_xlim([-0.1, 1])\n",
    "        ax1.set_xlabel('Silhouette coefficient values')\n",
    "        ax1.set_ylabel('Cluster labels')\n",
    "        ax1.set_title('Silhouette plot for the various clusters', y=1.02);\n",
    "\n",
    "        # Scatter plot of data colored with labels\n",
    "#         ax2.scatter(X_std[:, 0], X_std[:, 1], c=labels)\n",
    "#         ax2.scatter(centroids[:, 0], centroids[:, 1], marker='*', c='r', s=250)\n",
    "#         ax2.set_xlim([-2, 2])\n",
    "#         ax2.set_xlim([-2, 2])\n",
    "#         ax2.set_xlabel('Eruption time in mins')\n",
    "#         ax2.set_ylabel('Waiting time to next eruption')\n",
    "#         ax2.set_title('Visualization of clustered data', y=1.02)\n",
    "#         ax2.set_aspect('equal')\n",
    "        plt.tight_layout()\n",
    "        plt.suptitle(f'Silhouette analysis using k = {k}',\n",
    "                     fontsize=16, fontweight='semibold', y=1.05);"
   ]
  },
  {
   "cell_type": "code",
   "execution_count": 32,
   "metadata": {},
   "outputs": [],
   "source": [
    "km = KMeans(n_clusters=10, n_jobs=-1)\n",
    "\n",
    "labels = km.fit_predict(X)\n",
    "\n",
    "# ks = [5, 10, 15, 20, 25]\n",
    "\n",
    "# plot_sil(X, ks)"
   ]
  },
  {
   "cell_type": "code",
   "execution_count": 24,
   "metadata": {},
   "outputs": [],
   "source": [
    "# A different take on plotting silhouette score\n",
    "\n",
    "def plot2(X, ks):\n",
    "    for n_clusters in ks:\n",
    "        # Create a subplot with 1 row and 2 columns\n",
    "        fig, (ax1, ax2) = plt.subplots(1, 2)\n",
    "        fig.set_size_inches(18, 7)\n",
    "\n",
    "        # The 1st subplot is the silhouette plot\n",
    "        # The silhouette coefficient can range from -1, 1 but in this example all\n",
    "        # lie within [-0.1, 1]\n",
    "        ax1.set_xlim([-0.1, 1])\n",
    "        # The (n_clusters+1)*10 is for inserting blank space between silhouette\n",
    "        # plots of individual clusters, to demarcate them clearly.\n",
    "        ax1.set_ylim([0, len(X) + (n_clusters + 1) * 10])\n",
    "\n",
    "        # Initialize the clusterer with n_clusters value and a random generator\n",
    "        # seed of 10 for reproducibility.\n",
    "        clusterer = KMeans(n_clusters=n_clusters, random_state=10)\n",
    "        cluster_labels = clusterer.fit_predict(X)\n",
    "\n",
    "        # The silhouette_score gives the average value for all the samples.\n",
    "        # This gives a perspective into the density and separation of the formed\n",
    "        # clusters\n",
    "        silhouette_avg = silhouette_score(X, cluster_labels)\n",
    "        print(\"For n_clusters =\", n_clusters,\n",
    "              \"The average silhouette_score is :\", silhouette_avg)\n",
    "\n",
    "        # Compute the silhouette scores for each sample\n",
    "        sample_silhouette_values = silhouette_samples(X, cluster_labels)\n",
    "\n",
    "        y_lower = 10\n",
    "        for i in range(n_clusters):\n",
    "            # Aggregate the silhouette scores for samples belonging to\n",
    "            # cluster i, and sort them\n",
    "            ith_cluster_silhouette_values = \\\n",
    "                sample_silhouette_values[cluster_labels == i]\n",
    "\n",
    "            ith_cluster_silhouette_values.sort()\n",
    "\n",
    "            size_cluster_i = ith_cluster_silhouette_values.shape[0]\n",
    "            y_upper = y_lower + size_cluster_i\n",
    "\n",
    "            cmap = cm.get_cmap(\"nipy_spectral\")\n",
    "            color = cmap(float(i) / n_clusters)\n",
    "            ax1.fill_betweenx(np.arange(y_lower, y_upper),\n",
    "                              0, ith_cluster_silhouette_values,\n",
    "                              facecolor=color, edgecolor=color, alpha=0.7)\n",
    "\n",
    "            # Label the silhouette plots with their cluster numbers at the middle\n",
    "            ax1.text(-0.05, y_lower + 0.5 * size_cluster_i, str(i))\n",
    "\n",
    "            # Compute the new y_lower for next plot\n",
    "            y_lower = y_upper + 10  # 10 for the 0 samples\n",
    "\n",
    "        ax1.set_title(\"The silhouette plot for the various clusters.\")\n",
    "        ax1.set_xlabel(\"The silhouette coefficient values\")\n",
    "        ax1.set_ylabel(\"Cluster label\")\n",
    "\n",
    "        # The vertical line for average silhoutte score of all the values\n",
    "        ax1.axvline(x=silhouette_avg, color=\"red\", linestyle=\"--\")\n",
    "\n",
    "        ax1.set_yticks([])  # Clear the yaxis labels / ticks\n",
    "        ax1.set_xticks([-0.1, 0, 0.2, 0.4, 0.6, 0.8, 1])\n",
    "\n",
    "        plt.suptitle((\"Silhouette analysis for KMeans clustering on sample data \"\n",
    "                      \"with n_clusters = %d\" % n_clusters),\n",
    "                     fontsize=14, fontweight='bold')\n",
    "\n",
    "        plt.show()"
   ]
  },
  {
   "cell_type": "code",
   "execution_count": 31,
   "metadata": {},
   "outputs": [],
   "source": [
    "# ks = [2,3,4,5]\n",
    "# plot2(X[:,:10], ks)"
   ]
  },
  {
   "cell_type": "code",
   "execution_count": 1,
   "metadata": {},
   "outputs": [],
   "source": [
    "# Plot line of avg sil score\n",
    "\n",
    "def plot_avg_sil_score(X, ks, iterations, verbose=False, savepath=None):\n",
    "    df = pd.DataFrame(columns=ks)\n",
    "\n",
    "    for i in range(iterations):\n",
    "        sil_scores = []\n",
    "        for k in ks:\n",
    "            km = KMeans(n_clusters=k, n_jobs=-1)\n",
    "            labels = km.fit_predict(X)    \n",
    "            silhouette_vals = silhouette_samples(X, labels)\n",
    "            avg_score = np.mean(silhouette_vals)\n",
    "            sil_scores.append(avg_score)\n",
    "        df.loc[i] = sil_scores\n",
    "        if verbose:\n",
    "            print(f'Iteration {i} Complete')\n",
    "            \n",
    "    fig, ax = plt.subplots(figsize=(9,5))\n",
    "    ax = df.mean().plot(ax=ax)\n",
    "    ax.set_xlabel('Number of Clusters (k)')\n",
    "    ax.set_ylabel('Average Silhouette Score')\n",
    "    ax.set_title(f'Avg Silhouette Score over {iterations} iterations')\n",
    "    if savepath:\n",
    "        fig.savefig(savepath)\n",
    "    return df"
   ]
  },
  {
   "cell_type": "code",
   "execution_count": 62,
   "metadata": {},
   "outputs": [
    {
     "name": "stdout",
     "output_type": "stream",
     "text": [
      "Iteration 0 Complete\n",
      "Iteration 1 Complete\n",
      "Iteration 2 Complete\n",
      "Iteration 3 Complete\n",
      "Iteration 4 Complete\n",
      "Iteration 5 Complete\n",
      "Iteration 6 Complete\n",
      "Iteration 7 Complete\n",
      "Iteration 8 Complete\n",
      "Iteration 9 Complete\n"
     ]
    },
    {
     "data": {
      "image/png": "[encoded data removed]",
      "text/plain": [
       "<Figure size 648x360 with 1 Axes>"
      ]
     },
     "metadata": {
      "needs_background": "light"
     },
     "output_type": "display_data"
    }
   ],
   "source": [
    "ks = range(10,21)\n",
    "\n",
    "score_df = plot_avg_sil_score(X, ks, 10, verbose=True, \n",
    "                        savepath='../images/avg_sil_full_features.png')"
   ]
  },
  {
   "cell_type": "code",
   "execution_count": null,
   "metadata": {},
   "outputs": [],
   "source": []
  },
  {
   "cell_type": "code",
   "execution_count": 210,
   "metadata": {},
   "outputs": [],
   "source": [
    "# Hacked up code from \n",
    "# https://scikit-learn.org/stable/auto_examples/model_selection/plot_confusion_matrix.html#sphx-glr-auto-examples-model-selection-plot-confusion-matrix-py\n",
    "def plot_confusion_matrix(y_true, y_pred,\n",
    "                          normalize=False,\n",
    "                          title=None,\n",
    "                          cmap=plt.cm.Blues):\n",
    "    \"\"\"\n",
    "    This function prints and plots the confusion matrix.\n",
    "    Normalization can be applied by setting `normalize=True`.\n",
    "    \"\"\"\n",
    "    if not title:\n",
    "        if normalize:\n",
    "            title = 'Normalized confusion matrix'\n",
    "        else:\n",
    "            title = 'Confusion matrix, without normalization'\n",
    "\n",
    "    # Compute confusion matrix\n",
    "    cm = confusion_matrix(y_true, y_pred)\n",
    "    # Only use the labels that appear in the data\n",
    "    classes = unique_labels(y_true, y_pred)\n",
    "    if normalize:\n",
    "        cm = cm.astype('float') / cm.sum(axis=1)[:, np.newaxis]\n",
    "\n",
    "#     print(cm)\n",
    "\n",
    "    fig, ax = plt.subplots(figsize=(6,6))\n",
    "    im = ax.matshow(cm, interpolation='nearest', cmap=cmap)\n",
    "    ax.figure.colorbar(im, ax=ax)\n",
    "    # We want to show all ticks...\n",
    "    ax.set(\n",
    "           # ... and label them with the respective list entries\n",
    "           xticklabels=classes, yticklabels=classes,\n",
    "           title=title,\n",
    "           ylabel='True label',\n",
    "           xlabel='Predicted label')\n",
    "\n",
    "    # Rotate the tick labels and set their alignment.\n",
    "    plt.setp(ax.get_xticklabels(), rotation=45, ha=\"right\",\n",
    "             rotation_mode=\"anchor\")\n",
    "\n",
    "    # Loop over data dimensions and create text annotations.\n",
    "    fmt = '.2f' if normalize else 'd'\n",
    "    thresh = cm.max() / 2.\n",
    "    for i in range(cm.shape[0]):\n",
    "        for j in range(cm.shape[1]):\n",
    "            ax.text(j, i, format(cm[i, j], fmt),\n",
    "                    ha=\"center\", va=\"center\",\n",
    "                    color=\"white\" if cm[i, j] > thresh else \"black\")\n",
    "    fig.tight_layout()\n",
    "    return ax"
   ]
  },
  {
   "cell_type": "code",
   "execution_count": 211,
   "metadata": {},
   "outputs": [],
   "source": [
    "# Run Random Forest and get confusion matrix\n",
    "\n",
    "def rf_score_and_cm(df, full_df, n_topics, holdout='swb'):\n",
    "    keep = [c for c in df.columns if prefix not in c]\n",
    "    X = MinMaxScaler().fit_transform(df[keep])  \n",
    "\n",
    "    nmf = NMF(n_components=n_topics, random_state=0,\n",
    "              alpha=.3, l1_ratio=.5).fit(X)\n",
    "\n",
    "    W = nmf.transform(X)\n",
    "    \n",
    "    target = holdout + '_target'\n",
    "    y = full_df[target]\n",
    "\n",
    "    model = RandomForestClassifier(n_estimators=100)\n",
    "    score = cross_val_score(model, W, y, cv=5, scoring='f1_weighted', n_jobs=-1)\n",
    "    score = np.mean(score)\n",
    "    print(f'f1_weighted: {score}')\n",
    "    \n",
    "    X_train, X_test, y_train, y_test = train_test_split(X, y, test_size=0.25, random_state=0)\n",
    "    model.fit(X_train, y_train)\n",
    "    preds = model.predict(X_test)\n",
    "    \n",
    "    ax = plot_confusion_matrix(y_test, preds)\n",
    "    \n",
    "    return confusion_matrix(y_test, preds)\n"
   ]
  },
  {
   "cell_type": "code",
   "execution_count": 212,
   "metadata": {},
   "outputs": [
    {
     "name": "stdout",
     "output_type": "stream",
     "text": [
      "f1_weighted: 0.638913134165139\n"
     ]
    },
    {
     "data": {
      "image/png": "[encoded data removed]",
      "text/plain": [
       "<Figure size 432x432 with 2 Axes>"
      ]
     },
     "metadata": {
      "needs_background": "light"
     },
     "output_type": "display_data"
    }
   ],
   "source": [
    "cm = rf_score_and_cm(df, full_df, 7, 'swb');"
   ]
  },
  {
   "cell_type": "code",
   "execution_count": null,
   "metadata": {},
   "outputs": [],
   "source": []
  }
 ],
 "metadata": {
  "kernelspec": {
   "display_name": "Python 3",
   "language": "python",
   "name": "python3"
  },
  "language_info": {
   "codemirror_mode": {
    "name": "ipython",
    "version": 3
   },
   "file_extension": ".py",
   "mimetype": "text/x-python",
   "name": "python",
   "nbconvert_exporter": "python",
   "pygments_lexer": "ipython3",
   "version": "3.7.4"
  }
 },
 "nbformat": 4,
 "nbformat_minor": 4
}
