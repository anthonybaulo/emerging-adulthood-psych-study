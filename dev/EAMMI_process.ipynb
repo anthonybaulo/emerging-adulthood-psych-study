{
 "cells": [
  {
   "cell_type": "code",
   "execution_count": 1,
   "metadata": {},
   "outputs": [],
   "source": [
    "import pandas as pd\n",
    "pd.set_option('display.max_columns', None, 'display.max_rows', None)"
   ]
  },
  {
   "cell_type": "code",
   "execution_count": 17,
   "metadata": {},
   "outputs": [],
   "source": [
    "# This was run to convert the excel file to csv\n",
    "\n",
    "# xl_fname ='EAMMi2-Data1.2.xlsx'\n",
    "# df_raw = pd.read_excel(xl_fname)\n",
    "# df_raw.columns = map(str.lower, df_raw.columns)\n",
    "# df_raw.to_csv('EAMMi2-Data1.2.csv', header=True, index=None)"
   ]
  },
  {
   "cell_type": "code",
   "execution_count": 2,
   "metadata": {},
   "outputs": [],
   "source": [
    "fname = 'EAMMi2-Data1.2.csv'"
   ]
  },
  {
   "cell_type": "code",
   "execution_count": 17,
   "metadata": {},
   "outputs": [],
   "source": [
    "df_raw = pd.read_csv(fname)"
   ]
  },
  {
   "cell_type": "code",
   "execution_count": 5,
   "metadata": {},
   "outputs": [],
   "source": [
    "def filter_attention(df):\n",
    "    '''These columns were used to ensure people were paying attention\n",
    "    Filter on these conditions, then drop the columns'''\n",
    "    \n",
    "    cond1 = df['usdream_3'] == 1\n",
    "    cond2 = df['attenion2'] == 7\n",
    "    df = df[cond1 & cond2]\n",
    "    df.drop(['usdream_3', 'attenion2'], axis=1, inplace=True)\n",
    "    \n",
    "    return df.reset_index(drop=True)"
   ]
  },
  {
   "cell_type": "code",
   "execution_count": 6,
   "metadata": {},
   "outputs": [],
   "source": [
    "def timing(df):\n",
    "    '''Calculate the duration (in min) for each section,\n",
    "    then drop the original columns'''\n",
    "    \n",
    "    first_click = [c for c in df.columns if 'first click' in c]\n",
    "    last_click = [c for c in df.columns if 'last click' in c]\n",
    "    del_cols = [c for c in df.columns if 'click' in c or 'submit' in c] + ['duration (in seconds)']\n",
    "    \n",
    "    # Calc total duration in minutes\n",
    "    df.insert(0, 'duration_min', df['duration (in seconds)'] / 60)\n",
    "    \n",
    "    # Calc minutes for each section\n",
    "    for first, last in zip(first_click, last_click):\n",
    "        idx = df.columns.get_loc(last)\n",
    "        new_title = first[:4] + 'duration'\n",
    "        minutes = (df[last]-df[first]) / 60\n",
    "        \n",
    "        df.insert(idx, new_title, minutes)\n",
    "        df[new_title] = df[new_title].round(2)\n",
    "    \n",
    "    # Drop cols/ nan rows\n",
    "    df = df[pd.notnull(df['q65_last click'])]\n",
    "    df = df[pd.notnull(df['q81_last click'])]\n",
    "    df.drop(del_cols, axis=1, inplace=True)\n",
    "    \n",
    "    return df.reset_index(drop=True)"
   ]
  },
  {
   "cell_type": "code",
   "execution_count": 7,
   "metadata": {},
   "outputs": [],
   "source": [
    "def drop(df):\n",
    "    '''Drop these columns for various reasons'''\n",
    "    \n",
    "    # npi questions are not exclusive, but instructions call for binary response \n",
    "    # Otherwise lots of encoding if keeping them in\n",
    "    npis = [c for c in df.columns if 'npi' in c]\n",
    "    \n",
    "    del_cols = ['startdate','enddate','status', 'progress','recordeddate',\n",
    "                'responseid', 'recipientlastname','recipientfirstname','recipientemail',\n",
    "                'externalreference','distributionchannel','informedconsent','president',\n",
    "                'transgres','relation','relation_10_text','fault','comments','q14_6',\n",
    "                'q14_6_text','school','q81','affiliation','school_coded','race_6_text',\n",
    "                'q78_duration','marriage3']\n",
    "    total_cols = npis + del_cols\n",
    "    \n",
    "    return df.drop(total_cols, axis=1) "
   ]
  },
  {
   "cell_type": "code",
   "execution_count": 8,
   "metadata": {},
   "outputs": [],
   "source": [
    "def rename(df):\n",
    "    \n",
    "    # Rename various cols for readability\n",
    "    rename_dict = {\n",
    "        'adult_q': 'moa_adult',\n",
    "        'q65_duration': 'moa_duration',\n",
    "        'q66_duration': 'idea_duration',\n",
    "        'q74_duration': 'politic_duration',\n",
    "        'q67_duration': 'swb_duration',\n",
    "        'q68_duration': 'mindful_duration',\n",
    "        'belnow': 'belong_now',\n",
    "        'q72_duration': 'belong_duration',\n",
    "        'q77_duration': 'efficacy_duration',\n",
    "        'q96_duration': 'support_duration',\n",
    "        'q80_duration': 'socmedia_duration',\n",
    "        'q73_duration': 'usdream_duration',\n",
    "        'q78_duration': 'transgres_text_duration',\n",
    "        'q79_duration': 'transgres_duration',\n",
    "        'q76_duration': 'exploit_duration',\n",
    "        'q71_duration': 'disability_duration',\n",
    "        'q70_duration': 'phys_duration',\n",
    "        'q69_duration': 'stress_duration',\n",
    "        'q75_duration': 'marriage_duration',\n",
    "        'q81_duration': 'demo_duration',\n",
    "        'freq': 'transgres_freq',\n",
    "        'common': 'transgres_common',\n",
    "        'age': 'demo_age',\n",
    "        'q82': 'demo_mil',\n",
    "        'q83': 'demo_mil_years',\n",
    "        'place2': 'demo_us',\n",
    "        'q80': 'demo_us_years',\n",
    "        'phys_sx_biaschec': 'physsx_biascheck',\n",
    "        'phys_sym_bias_dummy,': 'physsx_bias_dummy'\n",
    "    }\n",
    "    \n",
    "    # Rename disability cols\n",
    "    dis = [c for c in df.columns if 'q11' in c or 'q14' in c or 'q10' in c]\n",
    "    new_names = ['disability' + x[1:] for x in dis]\n",
    "    dis_dict = {old:new for old,new in zip(dis, new_names)}\n",
    "    \n",
    "    total = {**rename_dict, **dis_dict}\n",
    "\n",
    "    return df.rename(columns=total)"
   ]
  },
  {
   "cell_type": "code",
   "execution_count": 9,
   "metadata": {},
   "outputs": [],
   "source": [
    "def drop_enc(df):\n",
    "    '''Until these columns can be encoded, they will be dropped'''\n",
    "    \n",
    "    enc_cols = ['politics','party','feel','marriage5','sex','edu','sibling','race','income','place']\n",
    "    \n",
    "    # Include corresponding coumns\n",
    "    plus = ['politic_duration']\n",
    "    total = enc_cols+plus\n",
    "    \n",
    "    return df.drop(total, axis=1)"
   ]
  },
  {
   "cell_type": "code",
   "execution_count": 10,
   "metadata": {},
   "outputs": [],
   "source": [
    "def remap(df):\n",
    "    df = df.copy()\n",
    "    \n",
    "    disability = [c for c in df.columns if 'disability' in c]   \n",
    "    df[disability].replace({2:0}, inplace=True)\n",
    "    df['moa_adult'].replace({3: 1, 1: 3}, inplace=True)\n",
    "    df['demo_us'].replace({2:0}, inplace=True)\n",
    "    df['demo_mil'].replace({3: 0}, inplace=True)\n",
    "    \n",
    "    return df"
   ]
  },
  {
   "cell_type": "code",
   "execution_count": 11,
   "metadata": {},
   "outputs": [],
   "source": [
    "def fill_nas(df):\n",
    "    df = df.copy()\n",
    "    \n",
    "    disability = [c for c in df.columns if 'disability' in c]   \n",
    "    df[disability] = df[disability].fillna(0)\n",
    "    df['demo_age'] = df['demo_age'].fillna(df['demo_age'].median())\n",
    "    df['demo_mil'] = df['demo_mil'].fillna(0)\n",
    "    df['demo_us'] = df['demo_us'].fillna(0)\n",
    "    df['demo_mil_years'] = df['demo_mil_years'].fillna(0)\n",
    "    df['demo_us_years'] = df['demo_us_years'].fillna(0)\n",
    "    df = df.fillna(df.median())\n",
    "    \n",
    "    return df"
   ]
  },
  {
   "cell_type": "code",
   "execution_count": 12,
   "metadata": {},
   "outputs": [],
   "source": [
    "def total_process(df):\n",
    "    df = filter_attention(df)\n",
    "    df = timing(df)\n",
    "    df = drop(df)\n",
    "    df = rename(df)\n",
    "    df = drop_enc(df)\n",
    "    df = remap(df)\n",
    "    df = fill_nas(df)\n",
    "\n",
    "    return df"
   ]
  },
  {
   "cell_type": "code",
   "execution_count": 23,
   "metadata": {},
   "outputs": [],
   "source": [
    "df = total_process(df_raw.copy());"
   ]
  },
  {
   "cell_type": "code",
   "execution_count": 20,
   "metadata": {},
   "outputs": [],
   "source": [
    "# df.isna().sum()\n",
    "# df.head()"
   ]
  },
  {
   "cell_type": "code",
   "execution_count": 21,
   "metadata": {},
   "outputs": [
    {
     "name": "stdout",
     "output_type": "stream",
     "text": [
      "<class 'pandas.core.frame.DataFrame'>\n",
      "RangeIndex: 2826 entries, 0 to 2825\n",
      "Columns: 219 entries, duration_min to response_bias_sum\n",
      "dtypes: float64(197), int64(22)\n",
      "memory usage: 4.7 MB\n"
     ]
    }
   ],
   "source": [
    "df.info()"
   ]
  },
  {
   "cell_type": "code",
   "execution_count": 22,
   "metadata": {},
   "outputs": [],
   "source": [
    "# Lists of individual sections\n",
    "\n",
    "moa = [c for c in df.columns if 'moa' in c]\n",
    "idea = [c for c in df.columns if 'idea' in c]\n",
    "swb = [c for c in df.columns if 'swb' in c]\n",
    "mindful = [c for c in df.columns if 'mindful' in c]\n",
    "belong = [c for c in df.columns if 'belong' in c]\n",
    "efficacy = [c for c in df.columns if 'efficacy' in c]\n",
    "support = [c for c in df.columns if 'support' in c]\n",
    "socmedia = [c for c in df.columns if 'socmedia' in c]\n",
    "usdream = [c for c in df.columns if 'usdream' in c]\n",
    "transgres = [c for c in df.columns if 'transgres' in c]\n",
    "exploit = [c for c in df.columns if 'exploit' in c]\n",
    "disability = [c for c in df.columns if 'disability' in c]\n",
    "phys = [c for c in df.columns if 'phys' in c]\n",
    "stress = [c for c in df.columns if 'stress' in c]\n",
    "marriage = [c for c in df.columns if 'marriage' in c]\n",
    "demo = [c for c in df.columns if 'demo' in c]"
   ]
  },
  {
   "cell_type": "code",
   "execution_count": null,
   "metadata": {},
   "outputs": [],
   "source": []
  }
 ],
 "metadata": {
  "kernelspec": {
   "display_name": "Python 3",
   "language": "python",
   "name": "python3"
  },
  "language_info": {
   "codemirror_mode": {
    "name": "ipython",
    "version": 3
   },
   "file_extension": ".py",
   "mimetype": "text/x-python",
   "name": "python",
   "nbconvert_exporter": "python",
   "pygments_lexer": "ipython3",
   "version": "3.7.4"
  }
 },
 "nbformat": 4,
 "nbformat_minor": 4
}
