{
 "cells": [
  {
   "cell_type": "code",
   "execution_count": 63,
   "metadata": {},
   "outputs": [],
   "source": [
    "import pandas as pd\n",
    "import numpy as np\n",
    "import matplotlib.pyplot as plt\n",
    "import matplotlib.cm as cm \n",
    "\n",
    "from sklearn.cluster import KMeans\n",
    "from sklearn.metrics import silhouette_score, silhouette_samples\n",
    "from sklearn.preprocessing import MinMaxScaler, StandardScaler\n",
    "from sklearn.decomposition import NMF\n",
    "\n",
    "pd.set_option('display.max_columns', None, 'display.max_rows', None)"
   ]
  },
  {
   "cell_type": "code",
   "execution_count": 76,
   "metadata": {},
   "outputs": [],
   "source": [
    "df = pd.read_csv('../data/survey_scaled.csv')"
   ]
  },
  {
   "cell_type": "code",
   "execution_count": 77,
   "metadata": {},
   "outputs": [
    {
     "name": "stdout",
     "output_type": "stream",
     "text": [
      "<class 'pandas.core.frame.DataFrame'>\n",
      "RangeIndex: 2826 entries, 0 to 2825\n",
      "Columns: 171 entries, moa1#1_1 to demo_us\n",
      "dtypes: float64(171)\n",
      "memory usage: 3.7 MB\n"
     ]
    }
   ],
   "source": [
    "df.info()"
   ]
  },
  {
   "cell_type": "code",
   "execution_count": 185,
   "metadata": {},
   "outputs": [
    {
     "data": {
      "text/html": [
       "<div>\n",
       "<style scoped>\n",
       "    .dataframe tbody tr th:only-of-type {\n",
       "        vertical-align: middle;\n",
       "    }\n",
       "\n",
       "    .dataframe tbody tr th {\n",
       "        vertical-align: top;\n",
       "    }\n",
       "\n",
       "    .dataframe thead th {\n",
       "        text-align: right;\n",
       "    }\n",
       "</style>\n",
       "<table border=\"1\" class=\"dataframe\">\n",
       "  <thead>\n",
       "    <tr style=\"text-align: right;\">\n",
       "      <th></th>\n",
       "      <th>Variable Name</th>\n",
       "      <th>Question text</th>\n",
       "      <th>Survey Question ID</th>\n",
       "    </tr>\n",
       "  </thead>\n",
       "  <tbody>\n",
       "    <tr>\n",
       "      <td>326</td>\n",
       "      <td>response_bias_sum</td>\n",
       "      <td>Sum of all Bias Dummy Variables</td>\n",
       "      <td>ADDED</td>\n",
       "    </tr>\n",
       "    <tr>\n",
       "      <td>327</td>\n",
       "      <td>school_coded</td>\n",
       "      <td>Cleaned Names of Schools Attended</td>\n",
       "      <td>ADDED</td>\n",
       "    </tr>\n",
       "  </tbody>\n",
       "</table>\n",
       "</div>"
      ],
      "text/plain": [
       "         Variable Name                      Question text Survey Question ID\n",
       "326  response_bias_sum    Sum of all Bias Dummy Variables              ADDED\n",
       "327       school_coded  Cleaned Names of Schools Attended              ADDED"
      ]
     },
     "execution_count": 185,
     "metadata": {},
     "output_type": "execute_result"
    }
   ],
   "source": [
    "# This will be used when grabbing verbose descriptions of columns\n",
    "# In other words, the text of the questions\n",
    "label_df = pd.read_csv('../data/labels_lower.csv')\n",
    "label_df.tail(2)"
   ]
  },
  {
   "cell_type": "code",
   "execution_count": 116,
   "metadata": {},
   "outputs": [],
   "source": [
    "def get_question_text(colname, label_df=label_df):\n",
    "    '''Get column description'''\n",
    "    \n",
    "    cond = label_df['Variable Name'] == colname\n",
    "    idx = label_df.index[cond].tolist()[0]\n",
    "    text = label_df.iloc[idx]['Question text']\n",
    "    \n",
    "    return text"
   ]
  },
  {
   "cell_type": "code",
   "execution_count": 19,
   "metadata": {},
   "outputs": [],
   "source": [
    "# Lists of individual sections\n",
    "\n",
    "moa = [c for c in df.columns if 'moa' in c]\n",
    "idea = [c for c in df.columns if 'idea' in c]\n",
    "swb = [c for c in df.columns if 'swb' in c]\n",
    "mindful = [c for c in df.columns if 'mindful' in c]\n",
    "belong = [c for c in df.columns if 'belong' in c]\n",
    "efficacy = [c for c in df.columns if 'efficacy' in c]\n",
    "support = [c for c in df.columns if 'support' in c]\n",
    "socmedia = [c for c in df.columns if 'socmedia' in c]\n",
    "usdream = [c for c in df.columns if 'usdream' in c]\n",
    "transgres = [c for c in df.columns if 'transgres' in c]\n",
    "exploit = [c for c in df.columns if 'exploit' in c]\n",
    "disability = [c for c in df.columns if 'disability' in c]\n",
    "phys = [c for c in df.columns if 'phys' in c]\n",
    "stress = [c for c in df.columns if 'stress' in c]\n",
    "marriage = [c for c in df.columns if 'marriage' in c]\n",
    "demo = [c for c in df.columns if 'demo' in c]"
   ]
  },
  {
   "cell_type": "code",
   "execution_count": 18,
   "metadata": {},
   "outputs": [],
   "source": [
    "X = StandardScaler().fit_transform(df)"
   ]
  },
  {
   "cell_type": "code",
   "execution_count": 9,
   "metadata": {
    "jupyter": {
     "source_hidden": true
    }
   },
   "outputs": [],
   "source": [
    "# From https://towardsdatascience.com/k-means-clustering-algorithm-applications-evaluation-methods-and-drawbacks-aa03e644b48a\n",
    "\n",
    "def plot_sil(X, ks):\n",
    "    for i, k in enumerate(ks):\n",
    "        fig, (ax1, ax2) = plt.subplots(1, 2, figsize=(12,6))\n",
    "\n",
    "        # Run the Kmeans algorithm\n",
    "        km = KMeans(n_clusters=k)\n",
    "        labels = km.fit_predict(X)\n",
    "        centroids = km.cluster_centers_\n",
    "\n",
    "        # Get silhouette samples\n",
    "        silhouette_vals = silhouette_samples(df, labels)\n",
    "\n",
    "        # Silhouette plot\n",
    "        y_ticks = []\n",
    "        y_lower, y_upper = 0, 0\n",
    "        for i, cluster in enumerate(np.unique(labels)):\n",
    "            cluster_silhouette_vals = silhouette_vals[labels == cluster]\n",
    "            cluster_silhouette_vals.sort()\n",
    "            y_upper += len(cluster_silhouette_vals)\n",
    "            ax1.barh(range(y_lower, y_upper), cluster_silhouette_vals, edgecolor='none', height=1)\n",
    "            ax1.text(-0.03, (y_lower + y_upper) / 2, str(i + 1))\n",
    "            y_lower += len(cluster_silhouette_vals)\n",
    "\n",
    "        # Get the average silhouette score and plot it\n",
    "        avg_score = np.mean(silhouette_vals)\n",
    "        ax1.axvline(avg_score, linestyle='--', linewidth=2, color='green')\n",
    "        ax1.set_yticks([])\n",
    "        ax1.set_xlim([-0.1, 1])\n",
    "        ax1.set_xlabel('Silhouette coefficient values')\n",
    "        ax1.set_ylabel('Cluster labels')\n",
    "        ax1.set_title('Silhouette plot for the various clusters', y=1.02);\n",
    "\n",
    "        # Scatter plot of data colored with labels\n",
    "#         ax2.scatter(X_std[:, 0], X_std[:, 1], c=labels)\n",
    "#         ax2.scatter(centroids[:, 0], centroids[:, 1], marker='*', c='r', s=250)\n",
    "#         ax2.set_xlim([-2, 2])\n",
    "#         ax2.set_xlim([-2, 2])\n",
    "#         ax2.set_xlabel('Eruption time in mins')\n",
    "#         ax2.set_ylabel('Waiting time to next eruption')\n",
    "#         ax2.set_title('Visualization of clustered data', y=1.02)\n",
    "#         ax2.set_aspect('equal')\n",
    "        plt.tight_layout()\n",
    "        plt.suptitle(f'Silhouette analysis using k = {k}',\n",
    "                     fontsize=16, fontweight='semibold', y=1.05);"
   ]
  },
  {
   "cell_type": "code",
   "execution_count": 19,
   "metadata": {},
   "outputs": [],
   "source": [
    "km = KMeans(n_clusters=10, n_jobs=-1)"
   ]
  },
  {
   "cell_type": "code",
   "execution_count": 20,
   "metadata": {},
   "outputs": [],
   "source": [
    "labels = km.fit_predict(X)"
   ]
  },
  {
   "cell_type": "code",
   "execution_count": 32,
   "metadata": {},
   "outputs": [],
   "source": [
    "# ks = [5, 10, 15, 20, 25]\n",
    "\n",
    "# plot_sil(X, ks)"
   ]
  },
  {
   "cell_type": "code",
   "execution_count": 24,
   "metadata": {
    "jupyter": {
     "source_hidden": true
    }
   },
   "outputs": [],
   "source": [
    "def plot2(X, ks):\n",
    "    for n_clusters in ks:\n",
    "        # Create a subplot with 1 row and 2 columns\n",
    "        fig, (ax1, ax2) = plt.subplots(1, 2)\n",
    "        fig.set_size_inches(18, 7)\n",
    "\n",
    "        # The 1st subplot is the silhouette plot\n",
    "        # The silhouette coefficient can range from -1, 1 but in this example all\n",
    "        # lie within [-0.1, 1]\n",
    "        ax1.set_xlim([-0.1, 1])\n",
    "        # The (n_clusters+1)*10 is for inserting blank space between silhouette\n",
    "        # plots of individual clusters, to demarcate them clearly.\n",
    "        ax1.set_ylim([0, len(X) + (n_clusters + 1) * 10])\n",
    "\n",
    "        # Initialize the clusterer with n_clusters value and a random generator\n",
    "        # seed of 10 for reproducibility.\n",
    "        clusterer = KMeans(n_clusters=n_clusters, random_state=10)\n",
    "        cluster_labels = clusterer.fit_predict(X)\n",
    "\n",
    "        # The silhouette_score gives the average value for all the samples.\n",
    "        # This gives a perspective into the density and separation of the formed\n",
    "        # clusters\n",
    "        silhouette_avg = silhouette_score(X, cluster_labels)\n",
    "        print(\"For n_clusters =\", n_clusters,\n",
    "              \"The average silhouette_score is :\", silhouette_avg)\n",
    "\n",
    "        # Compute the silhouette scores for each sample\n",
    "        sample_silhouette_values = silhouette_samples(X, cluster_labels)\n",
    "\n",
    "        y_lower = 10\n",
    "        for i in range(n_clusters):\n",
    "            # Aggregate the silhouette scores for samples belonging to\n",
    "            # cluster i, and sort them\n",
    "            ith_cluster_silhouette_values = \\\n",
    "                sample_silhouette_values[cluster_labels == i]\n",
    "\n",
    "            ith_cluster_silhouette_values.sort()\n",
    "\n",
    "            size_cluster_i = ith_cluster_silhouette_values.shape[0]\n",
    "            y_upper = y_lower + size_cluster_i\n",
    "\n",
    "            cmap = cm.get_cmap(\"nipy_spectral\")\n",
    "            color = cmap(float(i) / n_clusters)\n",
    "            ax1.fill_betweenx(np.arange(y_lower, y_upper),\n",
    "                              0, ith_cluster_silhouette_values,\n",
    "                              facecolor=color, edgecolor=color, alpha=0.7)\n",
    "\n",
    "            # Label the silhouette plots with their cluster numbers at the middle\n",
    "            ax1.text(-0.05, y_lower + 0.5 * size_cluster_i, str(i))\n",
    "\n",
    "            # Compute the new y_lower for next plot\n",
    "            y_lower = y_upper + 10  # 10 for the 0 samples\n",
    "\n",
    "        ax1.set_title(\"The silhouette plot for the various clusters.\")\n",
    "        ax1.set_xlabel(\"The silhouette coefficient values\")\n",
    "        ax1.set_ylabel(\"Cluster label\")\n",
    "\n",
    "        # The vertical line for average silhoutte score of all the values\n",
    "        ax1.axvline(x=silhouette_avg, color=\"red\", linestyle=\"--\")\n",
    "\n",
    "        ax1.set_yticks([])  # Clear the yaxis labels / ticks\n",
    "        ax1.set_xticks([-0.1, 0, 0.2, 0.4, 0.6, 0.8, 1])\n",
    "\n",
    "        # 2nd Plot showing the actual clusters formed\n",
    "#         cmap = cm.get_cmap(\"nipy_spectral\")\n",
    "#         colors = cmap(cluster_labels.astype(float) / n_clusters)\n",
    "#         ax2.scatter(X[:, 0], X[:, 1], marker='.', s=30, lw=0, alpha=0.7,\n",
    "#                     c=colors)\n",
    "\n",
    "#         # Labeling the clusters\n",
    "#         centers = clusterer.cluster_centers_\n",
    "#         # Draw white circles at cluster centers\n",
    "#         ax2.scatter(centers[:, 0], centers[:, 1],\n",
    "#                     marker='o', c=\"white\", alpha=1, s=200)\n",
    "\n",
    "#         for i, c in enumerate(centers):\n",
    "#             ax2.scatter(c[0], c[1], marker='$%d$' % i, alpha=1, s=50)\n",
    "\n",
    "#         ax2.set_title(\"The visualization of the clustered data.\")\n",
    "#         ax2.set_xlabel(\"Feature space for the 1st feature\")\n",
    "#         ax2.set_ylabel(\"Feature space for the 2nd feature\")\n",
    "\n",
    "        plt.suptitle((\"Silhouette analysis for KMeans clustering on sample data \"\n",
    "                      \"with n_clusters = %d\" % n_clusters),\n",
    "                     fontsize=14, fontweight='bold')\n",
    "\n",
    "        plt.show()"
   ]
  },
  {
   "cell_type": "code",
   "execution_count": 31,
   "metadata": {},
   "outputs": [],
   "source": [
    "# ks = [2,3,4,5]\n",
    "# plot2(X[:,:10], ks)"
   ]
  },
  {
   "cell_type": "code",
   "execution_count": 61,
   "metadata": {},
   "outputs": [],
   "source": [
    "def plot_avg_sil_score(X, ks, iterations, verbose=False, savepath=None):\n",
    "    df = pd.DataFrame(columns=ks)\n",
    "\n",
    "    for i in range(iterations):\n",
    "        sil_scores = []\n",
    "        for k in ks:\n",
    "            km = KMeans(n_clusters=k, n_jobs=-1)\n",
    "            labels = km.fit_predict(X)    \n",
    "            silhouette_vals = silhouette_samples(X, labels)\n",
    "            avg_score = np.mean(silhouette_vals)\n",
    "            sil_scores.append(avg_score)\n",
    "        df.loc[i] = sil_scores\n",
    "        if verbose:\n",
    "            print(f'Iteration {i} Complete')\n",
    "            \n",
    "    fig, ax = plt.subplots(figsize=(9,5))\n",
    "    ax = df.mean().plot(ax=ax)\n",
    "    ax.set_xlabel('Number of Clusters (k)')\n",
    "    ax.set_ylabel('Average Silhouette Score')\n",
    "    ax.set_title(f'Avg Silhouette Score over {iterations} iterations')\n",
    "    if savepath:\n",
    "        fig.savefig(savepath)\n",
    "    return df"
   ]
  },
  {
   "cell_type": "code",
   "execution_count": 62,
   "metadata": {},
   "outputs": [
    {
     "name": "stdout",
     "output_type": "stream",
     "text": [
      "Iteration 0 Complete\n",
      "Iteration 1 Complete\n",
      "Iteration 2 Complete\n",
      "Iteration 3 Complete\n",
      "Iteration 4 Complete\n",
      "Iteration 5 Complete\n",
      "Iteration 6 Complete\n",
      "Iteration 7 Complete\n",
      "Iteration 8 Complete\n",
      "Iteration 9 Complete\n"
     ]
    },
    {
     "data": {
      "image/png": "[encoded data removed]",
      "text/plain": [
       "<Figure size 648x360 with 1 Axes>"
      ]
     },
     "metadata": {
      "needs_background": "light"
     },
     "output_type": "display_data"
    }
   ],
   "source": [
    "ks = range(10,21)\n",
    "\n",
    "score_df = plot_avg_sil_score(X, ks, 10, verbose=True, \n",
    "                        savepath='../images/avg_sil_full_features.png')"
   ]
  },
  {
   "cell_type": "code",
   "execution_count": 224,
   "metadata": {},
   "outputs": [],
   "source": [
    "def nmf_results(df, n_topics=5, top_ques=5, per_person=3, verbose=False): \n",
    "    \n",
    "    # Fit NMF to X\n",
    "    nmf = NMF(n_components=n_topics, random_state=1,\n",
    "              alpha=.3, l1_ratio=.5).fit(df)\n",
    "\n",
    "    # W matrix maps each row (person) from input matrix to topic vector -> shape(m, n_topics)\n",
    "    W = nmf.transform(df)\n",
    "\n",
    "    # For each row/person, grab the column indices with highest values\n",
    "    top_n_per_person = W.argsort()[:,-per_person:][:,::-1]\n",
    "\n",
    "    # topics is the H matrix, mapping each topic to feature (question) -> shape (n_topics, p)\n",
    "    topics = nmf.components_\n",
    "    \n",
    "    topic_questions = []\n",
    "    \n",
    "    for i, topic in enumerate(topics):\n",
    "        topidxs = np.argsort(topic)[::-1][:top_ques]\n",
    "        toplist = [(round(topic[i], 2), colname, get_question_text(colname)) \n",
    "                   for i, colname in zip(topidxs, df.columns[topidxs])]\n",
    "        to_string = ['{} -> {} -> {}'.format(*tup) for tup in toplist]\n",
    "        topques = '\\n'.join(to_string)\n",
    "        topic_questions.append(toplist)\n",
    "        if verbose:\n",
    "            print(f'*****Topic: {i}*****\\n**Top Questions:\\n{topques}\\n')\n",
    "        \n",
    "    return nmf, topic_questions, top_n_per_person"
   ]
  },
  {
   "cell_type": "code",
   "execution_count": 267,
   "metadata": {},
   "outputs": [
    {
     "name": "stdout",
     "output_type": "stream",
     "text": [
      "*****Topic: 0*****\n",
      "**Top Questions:\n",
      "6.88 -> efficacy_7 -> I can remain calm when facing difficulties because I can rely on my coping abilities.\n",
      "6.79 -> efficacy_4 -> I am confident that I could deal efficiently with unexpected events.\n",
      "6.71 -> efficacy_10 -> I can usually handle whatever comes my way.\n",
      "6.48 -> efficacy_6 -> I can solve most problems if I invest the necessary effort.\n",
      "6.44 -> efficacy_9 -> If I am in trouble, I can usually think of a solution.\n",
      "6.42 -> efficacy_5 -> Thanks to my resourcefulness, I know how to handle unforeseen situations.\n",
      "6.38 -> efficacy_1 -> I can always manage to solve difficult problems if I try hard enough.\n",
      "6.36 -> moa2#2_1 -> Make independent decisions\n",
      "6.32 -> moa2#2_4 -> Accept responsibility for your actions\n",
      "6.23 -> efficacy_8 -> When I am confronted with a problem, I can usually find several solutions.\n",
      "\n",
      "*****Topic: 1*****\n",
      "**Top Questions:\n",
      "8.54 -> disability10_2 -> I don't think of myself as a disabled person.\n",
      "8.12 -> disability10_11 -> I can live a normal life with my disability.\n",
      "8.0 -> disability10_9 -> Without my disability I could accomplish more.\n",
      "7.52 -> disability10_13 -> My disability is an important part of who I am.\n",
      "7.21 -> disability10_3 -> I lack confidence because of my disability.\n",
      "7.13 -> disability10_8 -> My disability is a source of personal strength.\n",
      "7.08 -> disability10_12 -> I am a better person because of my disability.\n",
      "7.05 -> disability10_5 -> Sometimes I am ashamed to be disabled.\n",
      "7.02 -> disability10_1 -> My disability interferes with becoming successful.\n",
      "6.98 -> disability10_6 -> Being disabled has not reduced my enjoyment of life.\n",
      "\n",
      "*****Topic: 2*****\n",
      "**Top Questions:\n",
      "7.17 -> socmedia_9 -> Get in touch with someone I met at social events\n",
      "6.75 -> socmedia_7 -> Check out someone I might want to know better\n",
      "6.68 -> socmedia_4 -> Let friends know what Iâ€™ve been up to\n",
      "6.51 -> socmedia_6 -> Find out more about someone Iâ€™ve just met\n",
      "6.28 -> socmedia_11 -> Share different kinds of information\n",
      "6.19 -> socmedia_2 -> Find out what my friends are planning to do tonight or this weekend\n",
      "6.19 -> socmedia_8 -> Make new friends\n",
      "5.94 -> socmedia_5 -> Reconnect with people I used to know\n",
      "5.69 -> socmedia_3 -> Keep in touch with friends\n",
      "5.48 -> socmedia_10 -> Get different kinds of information\n",
      "\n",
      "*****Topic: 3*****\n",
      "**Top Questions:\n",
      "7.21 -> moa2#2_5 -> Be employed full-time\n",
      "6.88 -> moa2#2_2 -> Become capable of supporting a family financially\n",
      "6.54 -> moa1#2_1 -> Financially independent\n",
      "6.34 -> moa1#2_2 -> No longer living in parents' household\n",
      "5.92 -> moa2#2_3 -> Become capable of caring for children\n",
      "5.65 -> moa1#2_6 -> Settled into a long-term career\n",
      "5.44 -> moa1#2_3 -> Finished with education\n",
      "4.99 -> moa1#2_4 -> Married\n",
      "4.88 -> moa2#2_10 -> Capable of supporting parents financially\n",
      "4.75 -> moa1#2_5 -> Have at least one child\n",
      "\n",
      "*****Topic: 4*****\n",
      "**Top Questions:\n",
      "11.19 -> moa1#1_4 -> Married\n",
      "11.17 -> moa1#1_5 -> Have at least one child\n",
      "9.85 -> moa1#1_10 -> Committed to long-term love relationship\n",
      "8.72 -> moa2#1_3 -> Become capable of caring for children\n",
      "7.76 -> moa1#1_6 -> Settled into a long-term career\n",
      "7.53 -> moa2#1_2 -> Become capable of supporting a family financially\n",
      "6.82 -> moa1#1_3 -> Finished with education\n",
      "6.28 -> moa2#1_10 -> Capable of supporting parents financially\n",
      "5.85 -> moa2#1_5 -> Be employed full-time\n",
      "4.46 -> moa1#1_2 -> No longer living in parents' household\n",
      "\n",
      "*****Topic: 5*****\n",
      "**Top Questions:\n",
      "8.71 -> belong_10 -> My feelings are easily hurt when I feel that others do not accept me.\n",
      "8.12 -> belong_8 -> I have a strong need to belong.\n",
      "7.79 -> belong_9 -> It bothers me a great deal when I am not included in other people's plans.\n",
      "7.52 -> belong_5 -> I want other people to accept me.\n",
      "7.32 -> belong_2 -> I try hard not to do things that will make other people avoid or reject me.\n",
      "6.99 -> socmedia_7 -> Check out someone I might want to know better\n",
      "6.96 -> socmedia_6 -> Find out more about someone Iâ€™ve just met\n",
      "5.82 -> belong_6 -> I do not like being alone.\n",
      "5.57 -> belong_4 -> I need to feel that there are people I can turn to in times of need.\n",
      "5.46 -> socmedia_4 -> Let friends know what Iâ€™ve been up to\n",
      "\n",
      "*****Topic: 6*****\n",
      "**Top Questions:\n",
      "15.64 -> support_4 -> I get the emotional help and support I need from my family.\n",
      "15.37 -> support_8 -> I can talk about my problems with my family.\n",
      "14.09 -> support_3 -> My family really tries to help me.\n",
      "13.17 -> support_11 -> My family is willing to help me make decisions.\n",
      "11.28 -> support_1 -> There is a special person who is around when I am in need.\n",
      "11.19 -> support_2 -> There is a special person with whom I can share my joys and sorrows.\n",
      "11.15 -> support_10 -> There is a special person in my life who cares about my feelings.\n",
      "11.1 -> support_5 -> I have a special person who is a real source of comfort to me.\n",
      "10.97 -> swb_1 -> In most ways my life is close to my ideal.\n",
      "10.71 -> support_7 -> I can count on my friends when things go wrong.\n",
      "\n",
      "*****Topic: 7*****\n",
      "**Top Questions:\n",
      "14.46 -> moa1#2_7 -> Avoid becoming drunk\n",
      "12.51 -> moa1#2_8 -> Avoid illegal drugs\n",
      "10.56 -> moa1#1_7 -> Avoid becoming drunk\n",
      "10.29 -> moa1#1_8 -> Avoid illegal drugs\n",
      "3.83 -> moa2#2_6 -> Avoid drunk driving\n",
      "3.5 -> moa1#2_9 -> Use contraception if sexually active and not trying to conceive a child\n",
      "2.81 -> moa1#1_9 -> Use contraception if sexually active and not trying to conceive a child\n",
      "2.1 -> belong_7 -> Being apart from my friends for long periods of time does not bother me.\n",
      "2.07 -> usdream_1 -> Do you believe in the importance of achieving the American Dream?\n",
      "2.02 -> moa2#2_4 -> Accept responsibility for your actions\n",
      "\n",
      "*****Topic: 8*****\n",
      "**Top Questions:\n",
      "9.54 -> mindful_12 -> I drive places on â€˜automatic pilotâ€™ and then wonder why I went there.\n",
      "9.39 -> mindful_7 -> It seems I am â€œrunning on automatic,â€ without much awareness of what Iâ€™m doing.\n",
      "9.15 -> mindful_14 -> I find myself doing things without paying attention.\n",
      "9.12 -> mindful_10 -> I do jobs or tasks automatically, without being aware of what I'm doing.\n",
      "8.51 -> mindful_9 -> I get so focused on the goal I want to achieve that I lose touch with what Iâ€™m doing right now to get there.\n",
      "8.49 -> mindful_8 -> I rush through activities without being really attentive to them.\n",
      "7.75 -> mindful_4 -> I tend to walk quickly to get where Iâ€™m going without paying attention to what I experience along the way.\n",
      "7.66 -> mindful_15 -> I snack without being aware that Iâ€™m eating.\n",
      "7.36 -> mindful_5 -> I tend not to notice feelings of physical tension or discomfort until they really grab my attention.\n",
      "7.26 -> mindful_11 -> I find myself listening to someone with one ear, doing something else at the same time.\n",
      "\n",
      "*****Topic: 9*****\n",
      "**Top Questions:\n",
      "10.98 -> physsx_1 -> Stomach pain\n",
      "10.83 -> physsx_2 -> Back pain\n",
      "10.76 -> physsx_11 -> Nausea, gas, or indigestion\n",
      "10.71 -> physsx_4 -> Headaches\n",
      "10.39 -> physsx_8 -> Feeling your heart pound or race\n",
      "9.55 -> physsx_3 -> Pain in your arms, legs, or joints (knees, hips, etc).\n",
      "9.5 -> physsx_13 -> Trouble sleeping\n",
      "8.8 -> physsx_6 -> Dizziness\n",
      "8.8 -> physsx_10 -> Constipation, loose bowels, or diarrhea\n",
      "8.67 -> physsx_9 -> Shortness of breath\n",
      "\n",
      "*****Topic: 10*****\n",
      "**Top Questions:\n",
      "16.49 -> moa1#2_10 -> Committed to long-term love relationship\n",
      "10.83 -> support_2 -> There is a special person with whom I can share my joys and sorrows.\n",
      "10.82 -> support_5 -> I have a special person who is a real source of comfort to me.\n",
      "10.45 -> support_1 -> There is a special person who is around when I am in need.\n",
      "10.28 -> support_10 -> There is a special person in my life who cares about my feelings.\n",
      "5.04 -> moa1#2_9 -> Use contraception if sexually active and not trying to conceive a child\n",
      "3.19 -> moa1#1_10 -> Committed to long-term love relationship\n",
      "2.97 -> support_9 -> I have friends with whom I can share my joys and sorrows.\n",
      "2.67 -> support_12 -> I can talk about my problems with my friends.\n",
      "2.65 -> support_7 -> I can count on my friends when things go wrong.\n",
      "\n",
      "*****Topic: 11*****\n",
      "**Top Questions:\n",
      "4.88 -> exploit_1 -> It doesn't bother me to benefit at someone else's expense.\n",
      "4.39 -> exploit_2 -> I' perfectly willing to profit at the expense of others.\n",
      "3.71 -> exploit_3 -> Using other people doesn't bother me very much.\n",
      "3.29 -> stress_2 -> ...felt that you were unable to control the important things in your life?\n",
      "3.23 -> disability11 -> Do you identify as a person with a disability?\n",
      "3.19 -> belong_7 -> Being apart from my friends for long periods of time does not bother me.\n",
      "3.16 -> stress_10 -> ... felt difficulties were piling up so high that you could not overcome them?\n",
      "3.03 -> stress_9 -> ... been angered because of things that were outside of your control?\n",
      "2.94 -> disability14_5 -> Chronic Health\n",
      "2.81 -> disability14_1 -> Physical\n",
      "\n"
     ]
    }
   ],
   "source": [
    "nmf, topic_questions, top_n_per_person = nmf_results(df, n_topics=12, top_ques=10, \n",
    "                                                     per_person=3, verbose=True)"
   ]
  },
  {
   "cell_type": "code",
   "execution_count": 266,
   "metadata": {},
   "outputs": [
    {
     "data": {
      "image/png": "[encoded data removed]",
      "text/plain": [
       "<Figure size 1368x1008 with 12 Axes>"
      ]
     },
     "metadata": {
      "needs_background": "light"
     },
     "output_type": "display_data"
    }
   ],
   "source": [
    "n=12\n",
    "\n",
    "fig, axes = plt.subplots(3, int(n/3), figsize=(19,14))\n",
    "\n",
    "for ax, num in zip(axes.flatten(), range(5,5+n)):\n",
    "    nmf, topic_questions, top_n_per_person = nmf_results(df, n_topics=num)\n",
    "    vals, counts = np.unique(top_n_per_person[:,0], return_counts=True)\n",
    "    plot_df = pd.DataFrame(counts, vals)\n",
    "    ax = plot_df.sort_values(0, ascending=False).plot(kind='bar', legend=False, ax=ax)\n",
    "    ax.set_title(f'Number of topics: {num}')\n",
    "    ax.set_ylabel('Number of students')\n",
    "\n",
    "# plt.suptitle('Students per topic over increasing number of topics', fontsize=20)\n",
    "plt.tight_layout()\n",
    "fig.savefig('../images/Students per topic over increasing number of topics.png')"
   ]
  },
  {
   "cell_type": "code",
   "execution_count": 231,
   "metadata": {},
   "outputs": [
    {
     "data": {
      "text/plain": [
       "array([[14,  0,  5],\n",
       "       [11, 14,  0],\n",
       "       [11,  1, 10],\n",
       "       [ 0, 10, 12],\n",
       "       [ 4,  1,  2]])"
      ]
     },
     "execution_count": 231,
     "metadata": {},
     "output_type": "execute_result"
    }
   ],
   "source": [
    "# These are the top indices\n",
    "top_n_per_person[:5]"
   ]
  },
  {
   "cell_type": "code",
   "execution_count": 232,
   "metadata": {},
   "outputs": [
    {
     "data": {
      "text/plain": [
       "array([[0.14426321, 0.02917455, 0.00935914, 0.0310487 , 0.06707158,\n",
       "        0.10089733, 0.06361096, 0.05021277, 0.02028906, 0.0314057 ,\n",
       "        0.05313322, 0.0832797 , 0.03682855, 0.09368168, 0.18574385],\n",
       "       [0.13120387, 0.03334166, 0.00502066, 0.03330468, 0.09342924,\n",
       "        0.02013273, 0.07799294, 0.01937285, 0.00930368, 0.08474768,\n",
       "        0.09584007, 0.17806894, 0.05537885, 0.02520791, 0.13765424],\n",
       "       [0.04445179, 0.18021275, 0.00546415, 0.00439868, 0.04181206,\n",
       "        0.06102455, 0.01335613, 0.05766061, 0.01965853, 0.0546341 ,\n",
       "        0.11731682, 0.22287152, 0.01339024, 0.0808742 , 0.08287386]])"
      ]
     },
     "execution_count": 232,
     "metadata": {},
     "output_type": "execute_result"
    }
   ],
   "source": [
    "# This normalizes each row of W to percentages\n",
    "W = nmf.transform(df)\n",
    "\n",
    "normed = W / W.sum(axis=1)[:,None]\n",
    "normed[:3]"
   ]
  },
  {
   "cell_type": "code",
   "execution_count": 233,
   "metadata": {},
   "outputs": [
    {
     "data": {
      "text/plain": [
       "array([[0.18574385, 0.14426321, 0.10089733],\n",
       "       [0.17806894, 0.13765424, 0.13120387],\n",
       "       [0.22287152, 0.18021275, 0.11731682]])"
      ]
     },
     "execution_count": 233,
     "metadata": {},
     "output_type": "execute_result"
    }
   ],
   "source": [
    "col_idx = np.arange(W.shape[0])[:,None]\n",
    "\n",
    "# These are the percentages associated with the top indices\n",
    "top_perc_per_person = normed[col_idx, top_n_per_person]\n",
    "top_perc_per_person[:3]"
   ]
  },
  {
   "cell_type": "code",
   "execution_count": null,
   "metadata": {},
   "outputs": [],
   "source": []
  }
 ],
 "metadata": {
  "kernelspec": {
   "display_name": "Python 3",
   "language": "python",
   "name": "python3"
  },
  "language_info": {
   "codemirror_mode": {
    "name": "ipython",
    "version": 3
   },
   "file_extension": ".py",
   "mimetype": "text/x-python",
   "name": "python",
   "nbconvert_exporter": "python",
   "pygments_lexer": "ipython3",
   "version": "3.7.4"
  }
 },
 "nbformat": 4,
 "nbformat_minor": 4
}
