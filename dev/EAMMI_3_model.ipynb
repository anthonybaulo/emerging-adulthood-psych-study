{
 "cells": [
  {
   "cell_type": "code",
   "execution_count": 270,
   "metadata": {},
   "outputs": [],
   "source": [
    "import pandas as pd\n",
    "import numpy as np\n",
    "import matplotlib.pyplot as plt\n",
    "import matplotlib.cm as cm \n",
    "\n",
    "from sklearn.cluster import KMeans\n",
    "from sklearn.metrics import silhouette_score, silhouette_samples\n",
    "from sklearn.preprocessing import MinMaxScaler, StandardScaler\n",
    "from sklearn.decomposition import NMF\n",
    "\n",
    "pd.set_option('display.max_columns', None, 'display.max_rows', None)"
   ]
  },
  {
   "cell_type": "code",
   "execution_count": 271,
   "metadata": {},
   "outputs": [],
   "source": [
    "df = pd.read_csv('../data/for_clustering_not_scaled.csv')"
   ]
  },
  {
   "cell_type": "code",
   "execution_count": 272,
   "metadata": {},
   "outputs": [
    {
     "name": "stdout",
     "output_type": "stream",
     "text": [
      "<class 'pandas.core.frame.DataFrame'>\n",
      "RangeIndex: 2826 entries, 0 to 2825\n",
      "Columns: 128 entries, moa1#1_1 to marriage4\n",
      "dtypes: float64(128)\n",
      "memory usage: 2.8 MB\n"
     ]
    }
   ],
   "source": [
    "df.info()"
   ]
  },
  {
   "cell_type": "code",
   "execution_count": 273,
   "metadata": {},
   "outputs": [
    {
     "data": {
      "text/html": [
       "<div>\n",
       "<style scoped>\n",
       "    .dataframe tbody tr th:only-of-type {\n",
       "        vertical-align: middle;\n",
       "    }\n",
       "\n",
       "    .dataframe tbody tr th {\n",
       "        vertical-align: top;\n",
       "    }\n",
       "\n",
       "    .dataframe thead th {\n",
       "        text-align: right;\n",
       "    }\n",
       "</style>\n",
       "<table border=\"1\" class=\"dataframe\">\n",
       "  <thead>\n",
       "    <tr style=\"text-align: right;\">\n",
       "      <th></th>\n",
       "      <th>Variable Name</th>\n",
       "      <th>Question text</th>\n",
       "      <th>Survey Question ID</th>\n",
       "    </tr>\n",
       "  </thead>\n",
       "  <tbody>\n",
       "    <tr>\n",
       "      <td>326</td>\n",
       "      <td>response_bias_sum</td>\n",
       "      <td>Sum of all Bias Dummy Variables</td>\n",
       "      <td>ADDED</td>\n",
       "    </tr>\n",
       "    <tr>\n",
       "      <td>327</td>\n",
       "      <td>school_coded</td>\n",
       "      <td>Cleaned Names of Schools Attended</td>\n",
       "      <td>ADDED</td>\n",
       "    </tr>\n",
       "  </tbody>\n",
       "</table>\n",
       "</div>"
      ],
      "text/plain": [
       "         Variable Name                      Question text Survey Question ID\n",
       "326  response_bias_sum    Sum of all Bias Dummy Variables              ADDED\n",
       "327       school_coded  Cleaned Names of Schools Attended              ADDED"
      ]
     },
     "execution_count": 273,
     "metadata": {},
     "output_type": "execute_result"
    }
   ],
   "source": [
    "# This will be used when grabbing verbose descriptions of columns\n",
    "# In other words, the text of the questions\n",
    "label_df = pd.read_csv('../data/labels_lower.csv')\n",
    "label_df.tail(2)"
   ]
  },
  {
   "cell_type": "code",
   "execution_count": 274,
   "metadata": {},
   "outputs": [],
   "source": [
    "def get_question_text(colname, label_df=label_df):\n",
    "    '''Get column description'''\n",
    "    \n",
    "    cond = label_df['Variable Name'] == colname\n",
    "    idx = label_df.index[cond].tolist()[0]\n",
    "    text = label_df.iloc[idx]['Question text']\n",
    "    \n",
    "    return text"
   ]
  },
  {
   "cell_type": "code",
   "execution_count": 275,
   "metadata": {},
   "outputs": [],
   "source": [
    "# Lists of individual sections\n",
    "\n",
    "moa = [c for c in df.columns if 'moa' in c]\n",
    "idea = [c for c in df.columns if 'idea' in c]\n",
    "swb = [c for c in df.columns if 'swb' in c]\n",
    "mindful = [c for c in df.columns if 'mindful' in c]\n",
    "belong = [c for c in df.columns if 'belong' in c]\n",
    "efficacy = [c for c in df.columns if 'efficacy' in c]\n",
    "support = [c for c in df.columns if 'support' in c]\n",
    "transgres = [c for c in df.columns if 'transgres' in c]\n",
    "exploit = [c for c in df.columns if 'exploit' in c]\n",
    "stress = [c for c in df.columns if 'stress' in c]\n",
    "marriage = [c for c in df.columns if 'marriage' in c]\n",
    "\n",
    "socmedia = [c for c in df.columns if 'socmedia' in c]\n",
    "usdream = [c for c in df.columns if 'usdream' in c]\n",
    "demo = [c for c in df.columns if 'demo' in c]\n",
    "disability = [c for c in df.columns if 'disability' in c]\n",
    "phys = [c for c in df.columns if 'phys' in c]"
   ]
  },
  {
   "cell_type": "code",
   "execution_count": 278,
   "metadata": {},
   "outputs": [],
   "source": [
    "def nmf_results(df, n_topics=5, top_ques=5, per_person=3, verbose=False): \n",
    "    \n",
    "    X = StandardScaler(with_mean = False).fit_transform(df)    \n",
    "    # Fit NMF to X\n",
    "    nmf = NMF(n_components=n_topics, random_state=1,\n",
    "              alpha=.3, l1_ratio=.5).fit(X)\n",
    "\n",
    "    # W matrix maps each row (person) from input matrix to topic vector -> shape(m, n_topics)\n",
    "    W = nmf.transform(X)\n",
    "\n",
    "    # For each row/person, grab the column indices with highest values\n",
    "    top_n_per_person = W.argsort()[:,-per_person:][:,::-1]\n",
    "\n",
    "    # topics is the H matrix, mapping each topic to feature (question) -> shape (n_topics, p)\n",
    "    topics = nmf.components_\n",
    "    \n",
    "    topic_questions = []\n",
    "    \n",
    "    for i, topic in enumerate(topics):\n",
    "        topidxs = np.argsort(topic)[::-1][:top_ques]\n",
    "        toplist = [(round(topic[i], 2), colname, get_question_text(colname)) \n",
    "                   for i, colname in zip(topidxs, df.columns[topidxs])]\n",
    "        to_string = ['{} -> {} -> {}'.format(*tup) for tup in toplist]\n",
    "        topques = '\\n'.join(to_string)\n",
    "        topic_questions.append(toplist)\n",
    "        if verbose:\n",
    "            print(f'*****Topic: {i}*****\\n**Top Questions:\\n{topques}\\n')\n",
    "        \n",
    "    return nmf, topic_questions, top_n_per_person"
   ]
  },
  {
   "cell_type": "code",
   "execution_count": 280,
   "metadata": {},
   "outputs": [
    {
     "name": "stdout",
     "output_type": "stream",
     "text": [
      "*****Topic: 0*****\n",
      "**Top Questions:\n",
      "8.22 -> moa2#1_4 -> Accept responsibility for your actions\n",
      "7.88 -> moa2#1_1 -> Make independent decisions\n",
      "6.47 -> idea_1 -> Is this period of your life a time of many possibilities?\n",
      "6.24 -> efficacy_6 -> I can solve most problems if I invest the necessary effort.\n",
      "6.08 -> efficacy_9 -> If I am in trouble, I can usually think of a solution.\n",
      "6.06 -> idea_6 -> Is this period of your life a time of deciding your own beliefs and values?\n",
      "5.98 -> idea_2 -> Is this period of your life a time of exploration?\n",
      "5.86 -> efficacy_10 -> I can usually handle whatever comes my way.\n",
      "5.85 -> idea_5 -> Is this period of your life a time of defining yourself?\n",
      "5.66 -> efficacy_1 -> I can always manage to solve difficult problems if I try hard enough.\n",
      "\n",
      "*****Topic: 1*****\n",
      "**Top Questions:\n",
      "6.99 -> moa2#1_4 -> Accept responsibility for your actions\n",
      "6.44 -> moa2#1_1 -> Make independent decisions\n",
      "5.28 -> idea_3 -> Is this period of your life a time of feeling stressed out?\n",
      "5.27 -> idea_5 -> Is this period of your life a time of defining yourself?\n",
      "5.27 -> idea_4 -> Is this period of your life a time of high pressure?\n",
      "5.27 -> idea_6 -> Is this period of your life a time of deciding your own beliefs and values?\n",
      "5.16 -> idea_1 -> Is this period of your life a time of many possibilities?\n",
      "5.12 -> idea_2 -> Is this period of your life a time of exploration?\n",
      "5.07 -> idea_7 -> Is this period of your life a time of feeling adult in some ways but not others?\n",
      "4.71 -> moa2#1_6 -> Avoid drunk driving\n",
      "\n",
      "*****Topic: 2*****\n",
      "**Top Questions:\n",
      "5.2 -> moa2#2_2 -> Become capable of supporting a family financially\n",
      "4.81 -> moa1#2_6 -> Settled into a long-term career\n",
      "4.58 -> moa1#2_1 -> Financially independent\n",
      "4.48 -> moa1#2_4 -> Married\n",
      "4.4 -> moa2#2_10 -> Capable of supporting parents financially\n",
      "4.35 -> moa2#2_5 -> Be employed full-time\n",
      "4.32 -> moa1#2_5 -> Have at least one child\n",
      "4.05 -> moa1#2_3 -> Finished with education\n",
      "3.64 -> moa1#2_2 -> No longer living in parents' household\n",
      "3.25 -> moa2#2_3 -> Become capable of caring for children\n",
      "\n",
      "*****Topic: 3*****\n",
      "**Top Questions:\n",
      "12.58 -> support_5 -> I have a special person who is a real source of comfort to me.\n",
      "12.46 -> support_2 -> There is a special person with whom I can share my joys and sorrows.\n",
      "12.32 -> support_10 -> There is a special person in my life who cares about my feelings.\n",
      "12.15 -> support_1 -> There is a special person who is around when I am in need.\n",
      "7.85 -> support_9 -> I have friends with whom I can share my joys and sorrows.\n",
      "7.27 -> support_7 -> I can count on my friends when things go wrong.\n",
      "7.2 -> support_12 -> I can talk about my problems with my friends.\n",
      "7.07 -> support_6 -> My friends really try to help me.\n",
      "6.14 -> moa1#2_10 -> Committed to long-term love relationship\n",
      "3.7 -> support_11 -> My family is willing to help me make decisions.\n",
      "\n",
      "*****Topic: 4*****\n",
      "**Top Questions:\n",
      "8.55 -> moa1#1_4 -> Married\n",
      "8.04 -> moa1#1_5 -> Have at least one child\n",
      "8.02 -> moa2#1_2 -> Become capable of supporting a family financially\n",
      "8.0 -> moa1#1_10 -> Committed to long-term love relationship\n",
      "7.71 -> moa2#1_3 -> Become capable of caring for children\n",
      "7.48 -> moa1#1_6 -> Settled into a long-term career\n",
      "6.98 -> moa2#1_5 -> Be employed full-time\n",
      "6.67 -> moa1#1_3 -> Finished with education\n",
      "5.99 -> moa2#1_10 -> Capable of supporting parents financially\n",
      "4.89 -> moa2#1_8 -> Learn always to have good control of your emotions\n",
      "\n",
      "*****Topic: 5*****\n",
      "**Top Questions:\n",
      "10.08 -> mindful_10 -> I do jobs or tasks automatically, without being aware of what I'm doing.\n",
      "9.84 -> mindful_7 -> It seems I am â€œrunning on automatic,â€ without much awareness of what Iâ€™m doing.\n",
      "9.59 -> mindful_14 -> I find myself doing things without paying attention.\n",
      "9.43 -> mindful_8 -> I rush through activities without being really attentive to them.\n",
      "8.98 -> mindful_9 -> I get so focused on the goal I want to achieve that I lose touch with what Iâ€™m doing right now to get there.\n",
      "8.35 -> mindful_12 -> I drive places on â€˜automatic pilotâ€™ and then wonder why I went there.\n",
      "7.91 -> mindful_4 -> I tend to walk quickly to get where Iâ€™m going without paying attention to what I experience along the way.\n",
      "7.55 -> mindful_11 -> I find myself listening to someone with one ear, doing something else at the same time.\n",
      "7.2 -> mindful_5 -> I tend not to notice feelings of physical tension or discomfort until they really grab my attention.\n",
      "6.63 -> mindful_15 -> I snack without being aware that Iâ€™m eating.\n",
      "\n",
      "*****Topic: 6*****\n",
      "**Top Questions:\n",
      "7.28 -> exploit_2 -> I' perfectly willing to profit at the expense of others.\n",
      "7.02 -> exploit_1 -> It doesn't bother me to benefit at someone else's expense.\n",
      "6.84 -> exploit_3 -> Using other people doesn't bother me very much.\n",
      "4.94 -> transgres_freq -> In the past two weeks (14 days), how often has someone gotten upset with you in response to something that you said or did?\n",
      "4.87 -> transgres_1 -> lied to you\n",
      "4.82 -> transgres_3 -> got even with you for something that happened previously\n",
      "4.46 -> transgres_2 -> spread rumors or gossiped about you\n",
      "3.95 -> stress_1 -> ...been upset because of something that happened unexpectedly?\n",
      "3.88 -> transgres_4 -> degraded you in public\n",
      "3.8 -> stress_9 -> ... been angered because of things that were outside of your control?\n",
      "\n",
      "*****Topic: 7*****\n",
      "**Top Questions:\n",
      "8.96 -> support_3 -> My family really tries to help me.\n",
      "8.65 -> support_4 -> I get the emotional help and support I need from my family.\n",
      "8.6 -> support_11 -> My family is willing to help me make decisions.\n",
      "8.02 -> support_8 -> I can talk about my problems with my family.\n",
      "7.24 -> swb_2 -> The conditions of my life are excellent.\n",
      "6.87 -> swb_1 -> In most ways my life is close to my ideal.\n",
      "6.62 -> swb_3 -> I am satisfied with my life.\n",
      "6.37 -> swb_4 -> So far I have gotten the important things I want in life.\n",
      "6.23 -> belong_5 -> I want other people to accept me.\n",
      "6.13 -> belong_8 -> I have a strong need to belong.\n",
      "\n",
      "*****Topic: 8*****\n",
      "**Top Questions:\n",
      "8.07 -> moa1#2_7 -> Avoid becoming drunk\n",
      "7.78 -> moa1#2_8 -> Avoid illegal drugs\n",
      "6.36 -> moa1#1_8 -> Avoid illegal drugs\n",
      "6.31 -> moa1#1_7 -> Avoid becoming drunk\n",
      "5.53 -> moa2#2_6 -> Avoid drunk driving\n",
      "5.15 -> moa2#1_4 -> Accept responsibility for your actions\n",
      "4.2 -> moa2#1_6 -> Avoid drunk driving\n",
      "3.76 -> moa2#2_4 -> Accept responsibility for your actions\n",
      "3.67 -> moa1#2_9 -> Use contraception if sexually active and not trying to conceive a child\n",
      "3.5 -> belong_7 -> Being apart from my friends for long periods of time does not bother me.\n",
      "\n",
      "*****Topic: 9*****\n",
      "**Top Questions:\n",
      "4.71 -> efficacy_9 -> If I am in trouble, I can usually think of a solution.\n",
      "4.7 -> efficacy_5 -> Thanks to my resourcefulness, I know how to handle unforeseen situations.\n",
      "4.45 -> efficacy_4 -> I am confident that I could deal efficiently with unexpected events.\n",
      "4.44 -> efficacy_8 -> When I am confronted with a problem, I can usually find several solutions.\n",
      "4.42 -> efficacy_10 -> I can usually handle whatever comes my way.\n",
      "4.41 -> efficacy_1 -> I can always manage to solve difficult problems if I try hard enough.\n",
      "4.27 -> efficacy_6 -> I can solve most problems if I invest the necessary effort.\n",
      "3.79 -> efficacy_7 -> I can remain calm when facing difficulties because I can rely on my coping abilities.\n",
      "3.25 -> efficacy_2 -> If someone opposes me, I can find the means and ways to get what I want.\n",
      "2.95 -> efficacy_3 -> It is easy for me to stick to my aims and accomplish my goals.\n",
      "\n"
     ]
    }
   ],
   "source": [
    "nmf, topic_questions, top_n_per_person = nmf_results(df, n_topics=10, top_ques=10, \n",
    "                                                     per_person=3, verbose=True)"
   ]
  },
  {
   "cell_type": "code",
   "execution_count": 281,
   "metadata": {},
   "outputs": [],
   "source": [
    "# # This cell will plot the number of students that end up associated with each topic\n",
    "# # as the number of topics increases\n",
    "\n",
    "# n=12\n",
    "\n",
    "# fig, axes = plt.subplots(3, int(n/3), figsize=(19,14))\n",
    "\n",
    "# for ax, num in zip(axes.flatten(), range(5,5+n)):\n",
    "#     nmf, topic_questions, top_n_per_person = nmf_results(df, n_topics=num)\n",
    "#     vals, counts = np.unique(top_n_per_person[:,0], return_counts=True)\n",
    "#     plot_df = pd.DataFrame(counts, vals)\n",
    "#     ax = plot_df.sort_values(0, ascending=False).plot(kind='bar', legend=False, ax=ax)\n",
    "#     ax.set_title(f'Number of topics: {num}')\n",
    "#     ax.set_ylabel('Number of students')\n",
    "\n",
    "# # plt.suptitle('Students per topic over increasing number of topics', fontsize=20)\n",
    "# plt.tight_layout()\n",
    "# fig.savefig('../images/Students per topic over increasing number of topics.png')"
   ]
  },
  {
   "cell_type": "code",
   "execution_count": 231,
   "metadata": {},
   "outputs": [
    {
     "data": {
      "text/plain": [
       "array([[14,  0,  5],\n",
       "       [11, 14,  0],\n",
       "       [11,  1, 10],\n",
       "       [ 0, 10, 12],\n",
       "       [ 4,  1,  2]])"
      ]
     },
     "execution_count": 231,
     "metadata": {},
     "output_type": "execute_result"
    }
   ],
   "source": [
    "# These are the top indices\n",
    "top_n_per_person[:5]"
   ]
  },
  {
   "cell_type": "code",
   "execution_count": 232,
   "metadata": {},
   "outputs": [
    {
     "data": {
      "text/plain": [
       "array([[0.14426321, 0.02917455, 0.00935914, 0.0310487 , 0.06707158,\n",
       "        0.10089733, 0.06361096, 0.05021277, 0.02028906, 0.0314057 ,\n",
       "        0.05313322, 0.0832797 , 0.03682855, 0.09368168, 0.18574385],\n",
       "       [0.13120387, 0.03334166, 0.00502066, 0.03330468, 0.09342924,\n",
       "        0.02013273, 0.07799294, 0.01937285, 0.00930368, 0.08474768,\n",
       "        0.09584007, 0.17806894, 0.05537885, 0.02520791, 0.13765424],\n",
       "       [0.04445179, 0.18021275, 0.00546415, 0.00439868, 0.04181206,\n",
       "        0.06102455, 0.01335613, 0.05766061, 0.01965853, 0.0546341 ,\n",
       "        0.11731682, 0.22287152, 0.01339024, 0.0808742 , 0.08287386]])"
      ]
     },
     "execution_count": 232,
     "metadata": {},
     "output_type": "execute_result"
    }
   ],
   "source": [
    "# This normalizes each row of W to percentages\n",
    "W = nmf.transform(df)\n",
    "\n",
    "normed = W / W.sum(axis=1)[:,None]\n",
    "normed[:3]"
   ]
  },
  {
   "cell_type": "code",
   "execution_count": 233,
   "metadata": {},
   "outputs": [
    {
     "data": {
      "text/plain": [
       "array([[0.18574385, 0.14426321, 0.10089733],\n",
       "       [0.17806894, 0.13765424, 0.13120387],\n",
       "       [0.22287152, 0.18021275, 0.11731682]])"
      ]
     },
     "execution_count": 233,
     "metadata": {},
     "output_type": "execute_result"
    }
   ],
   "source": [
    "col_idx = np.arange(W.shape[0])[:,None]\n",
    "\n",
    "# These are the percentages associated with the top indices\n",
    "top_perc_per_person = normed[col_idx, top_n_per_person]\n",
    "top_perc_per_person[:3]"
   ]
  },
  {
   "cell_type": "code",
   "execution_count": null,
   "metadata": {},
   "outputs": [],
   "source": []
  }
 ],
 "metadata": {
  "kernelspec": {
   "display_name": "Python 3",
   "language": "python",
   "name": "python3"
  },
  "language_info": {
   "codemirror_mode": {
    "name": "ipython",
    "version": 3
   },
   "file_extension": ".py",
   "mimetype": "text/x-python",
   "name": "python",
   "nbconvert_exporter": "python",
   "pygments_lexer": "ipython3",
   "version": "3.7.4"
  }
 },
 "nbformat": 4,
 "nbformat_minor": 4
}
