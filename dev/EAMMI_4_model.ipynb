{
 "cells": [
  {
   "cell_type": "code",
   "execution_count": 87,
   "metadata": {},
   "outputs": [],
   "source": [
    "import pandas as pd\n",
    "import numpy as np\n",
    "import matplotlib.pyplot as plt\n",
    "\n",
    "from pathlib import Path\n",
    "\n",
    "from sklearn.preprocessing import MinMaxScaler, StandardScaler\n",
    "from sklearn.linear_model import LogisticRegression\n",
    "from sklearn.ensemble import GradientBoostingClassifier, RandomForestClassifier\n",
    "from sklearn.model_selection import cross_val_score\n",
    "from sklearn.metrics import cohen_kappa_score, make_scorer\n",
    "\n",
    "from sklearn.utils.testing import ignore_warnings\n",
    "from sklearn.exceptions import ConvergenceWarning\n",
    "\n",
    "import warnings\n",
    "warnings.filterwarnings(\"ignore\", category=DeprecationWarning)\n",
    "\n",
    "pd.set_option('display.max_columns', None, 'display.max_rows', None)"
   ]
  },
  {
   "cell_type": "code",
   "execution_count": 85,
   "metadata": {},
   "outputs": [],
   "source": [
    "imagepath = Path('../images')\n",
    "datapath = Path('../data')\n",
    "full = 'cleaned_full_1.csv'\n",
    "std_feats = 'high_std_feats.csv'"
   ]
  },
  {
   "cell_type": "code",
   "execution_count": 31,
   "metadata": {},
   "outputs": [],
   "source": [
    "df = pd.read_csv(datapath/full)"
   ]
  },
  {
   "cell_type": "code",
   "execution_count": 45,
   "metadata": {},
   "outputs": [],
   "source": [
    "# Lists of individual sections\n",
    "\n",
    "moa = [c for c in df.columns if 'moa' in c]\n",
    "idea = [c for c in df.columns if 'idea' in c]\n",
    "swb = [c for c in df.columns if 'swb' in c]\n",
    "mindful = [c for c in df.columns if 'mindful' in c]\n",
    "belong = [c for c in df.columns if 'belong' in c]\n",
    "efficacy = [c for c in df.columns if 'efficacy' in c]\n",
    "support = [c for c in df.columns if 'support' in c]\n",
    "transgres = [c for c in df.columns if 'transgres' in c]\n",
    "exploit = [c for c in df.columns if 'exploit' in c]\n",
    "stress = [c for c in df.columns if 'stress' in c]\n",
    "marriage = [c for c in df.columns if 'marriage' in c]\n",
    "\n",
    "# demographics\n",
    "socmedia = [c for c in df.columns if 'socmedia' in c]\n",
    "usdream = [c for c in df.columns if 'usdream' in c]\n",
    "demo = [c for c in df.columns if 'demo' in c]\n",
    "disability = [c for c in df.columns if 'disability' in c]\n",
    "phys = [c for c in df.columns if 'phys' in c]\n",
    "\n",
    "# Cols to use as features\n",
    "skip = ['bias', 'duration']\n",
    "mind_feats = [c for c in mindful if not any(s in c for s in skip)]\n",
    "sup_feats = [c for c in support if not any(s in c for s in skip)]\n",
    "\n",
    "sibs = [c for c in demo if 'sibs' in c]\n",
    "parents = [c for c in demo if 'parents' in c]\n",
    "fam_feats = parents+sibs\n",
    "\n",
    "feat_lists = [mind_feats, sup_feats, fam_feats]\n",
    "\n",
    "# Cols to use as targets\n",
    "targets = [c for c in df.columns if 'target' in c] + ['belong_now', 'demo_politics']\n"
   ]
  },
  {
   "cell_type": "code",
   "execution_count": 70,
   "metadata": {},
   "outputs": [
    {
     "data": {
      "text/html": [
       "<div>\n",
       "<style scoped>\n",
       "    .dataframe tbody tr th:only-of-type {\n",
       "        vertical-align: middle;\n",
       "    }\n",
       "\n",
       "    .dataframe tbody tr th {\n",
       "        vertical-align: top;\n",
       "    }\n",
       "\n",
       "    .dataframe thead th {\n",
       "        text-align: right;\n",
       "    }\n",
       "</style>\n",
       "<table border=\"1\" class=\"dataframe\">\n",
       "  <thead>\n",
       "    <tr style=\"text-align: right;\">\n",
       "      <th></th>\n",
       "      <th>swb_target</th>\n",
       "      <th>efficacy_target</th>\n",
       "      <th>phys_target</th>\n",
       "      <th>stress_target</th>\n",
       "      <th>belong_now</th>\n",
       "      <th>demo_politics</th>\n",
       "    </tr>\n",
       "  </thead>\n",
       "  <tbody>\n",
       "    <tr>\n",
       "      <td>0</td>\n",
       "      <td>neutral</td>\n",
       "      <td>very_high</td>\n",
       "      <td>med</td>\n",
       "      <td>high</td>\n",
       "      <td>4.0</td>\n",
       "      <td>2.0</td>\n",
       "    </tr>\n",
       "    <tr>\n",
       "      <td>1</td>\n",
       "      <td>neutral</td>\n",
       "      <td>very_high</td>\n",
       "      <td>med</td>\n",
       "      <td>high</td>\n",
       "      <td>4.0</td>\n",
       "      <td>1.0</td>\n",
       "    </tr>\n",
       "  </tbody>\n",
       "</table>\n",
       "</div>"
      ],
      "text/plain": [
       "  swb_target efficacy_target phys_target stress_target  belong_now  \\\n",
       "0    neutral       very_high         med          high         4.0   \n",
       "1    neutral       very_high         med          high         4.0   \n",
       "\n",
       "   demo_politics  \n",
       "0            2.0  \n",
       "1            1.0  "
      ]
     },
     "execution_count": 70,
     "metadata": {},
     "output_type": "execute_result"
    }
   ],
   "source": [
    "df[targets].head(2)"
   ]
  },
  {
   "cell_type": "code",
   "execution_count": 88,
   "metadata": {},
   "outputs": [],
   "source": [
    "kappa_scorer = make_scorer(cohen_kappa_score)"
   ]
  },
  {
   "cell_type": "code",
   "execution_count": 127,
   "metadata": {},
   "outputs": [],
   "source": [
    "@ignore_warnings(category=ConvergenceWarning)\n",
    "def logreg_tests(df, feat_lists, targets):\n",
    "    for feat_list in feat_lists:\n",
    "        f = feat_list[0]\n",
    "        for target in targets:\n",
    "            X = StandardScaler().fit_transform(df[feat_list])\n",
    "            y = df[target].values\n",
    "\n",
    "            model = LogisticRegression(solver='lbfgs', multi_class='auto')\n",
    "            score = cross_val_score(model, X, y, cv=5, scoring=kappa_scorer, n_jobs=-1)\n",
    "            score = np.mean(score)\n",
    "            \n",
    "            if score >= 0.2:\n",
    "                print(f'{f} predicting {target}\\nkappa score: {score}\\n')"
   ]
  },
  {
   "cell_type": "code",
   "execution_count": 128,
   "metadata": {},
   "outputs": [
    {
     "name": "stderr",
     "output_type": "stream",
     "text": [
      "/anaconda3/envs/eammi/lib/python3.7/site-packages/sklearn/model_selection/_split.py:657: Warning: The least populated class in y has only 1 members, which is too few. The minimum number of members in any class cannot be less than n_splits=5.\n",
      "  % (min_groups, self.n_splits)), Warning)\n"
     ]
    },
    {
     "name": "stdout",
     "output_type": "stream",
     "text": [
      "support_1 predicting swb_target\n",
      "kappa score: 0.28369913477926445\n",
      "\n"
     ]
    },
    {
     "name": "stderr",
     "output_type": "stream",
     "text": [
      "/anaconda3/envs/eammi/lib/python3.7/site-packages/sklearn/model_selection/_split.py:657: Warning: The least populated class in y has only 1 members, which is too few. The minimum number of members in any class cannot be less than n_splits=5.\n",
      "  % (min_groups, self.n_splits)), Warning)\n",
      "/anaconda3/envs/eammi/lib/python3.7/site-packages/sklearn/model_selection/_split.py:657: Warning: The least populated class in y has only 1 members, which is too few. The minimum number of members in any class cannot be less than n_splits=5.\n",
      "  % (min_groups, self.n_splits)), Warning)\n"
     ]
    }
   ],
   "source": [
    "logreg_tests(df, feat_lists, targets)"
   ]
  },
  {
   "cell_type": "code",
   "execution_count": 120,
   "metadata": {},
   "outputs": [],
   "source": [
    "def rf_tests(df, feat_lists, targets):\n",
    "    for feat_list in feat_lists:\n",
    "        f = feat_list[0]\n",
    "        for target in targets:\n",
    "            X = df[feat_list].values\n",
    "            y = df[target].values\n",
    "\n",
    "            model = RandomForestClassifier(n_estimators=100)\n",
    "            score = cross_val_score(model, X, y, cv=5, scoring=kappa_scorer, n_jobs=-1)\n",
    "            score = np.mean(score)\n",
    "            \n",
    "            if score >= 0.2:\n",
    "                print(f'{f} predicting {target}\\nkappa score: {score}\\n')"
   ]
  },
  {
   "cell_type": "code",
   "execution_count": 121,
   "metadata": {},
   "outputs": [
    {
     "name": "stderr",
     "output_type": "stream",
     "text": [
      "/anaconda3/envs/eammi/lib/python3.7/site-packages/sklearn/model_selection/_split.py:657: Warning: The least populated class in y has only 1 members, which is too few. The minimum number of members in any class cannot be less than n_splits=5.\n",
      "  % (min_groups, self.n_splits)), Warning)\n"
     ]
    },
    {
     "name": "stdout",
     "output_type": "stream",
     "text": [
      "support_1 predicting swb_target\n",
      "kappa score: 0.21183033262782466\n",
      "\n"
     ]
    },
    {
     "name": "stderr",
     "output_type": "stream",
     "text": [
      "/anaconda3/envs/eammi/lib/python3.7/site-packages/sklearn/model_selection/_split.py:657: Warning: The least populated class in y has only 1 members, which is too few. The minimum number of members in any class cannot be less than n_splits=5.\n",
      "  % (min_groups, self.n_splits)), Warning)\n",
      "/anaconda3/envs/eammi/lib/python3.7/site-packages/sklearn/model_selection/_split.py:657: Warning: The least populated class in y has only 1 members, which is too few. The minimum number of members in any class cannot be less than n_splits=5.\n",
      "  % (min_groups, self.n_splits)), Warning)\n"
     ]
    }
   ],
   "source": [
    "rf_tests(df, feat_lists, targets)"
   ]
  },
  {
   "cell_type": "code",
   "execution_count": 122,
   "metadata": {},
   "outputs": [],
   "source": [
    "def gb_tests(df, feat_lists, targets):\n",
    "    for feat_list in feat_lists:\n",
    "        f = feat_list[0]\n",
    "        for target in targets:\n",
    "            X = df[feat_list].values\n",
    "            y = df[target].values\n",
    "\n",
    "            model = GradientBoostingClassifier(learning_rate=0.01, n_estimators=100)\n",
    "            score = cross_val_score(model, X, y, cv=5, scoring=kappa_scorer, n_jobs=-1)\n",
    "            score = np.mean(score)\n",
    "            \n",
    "            if score >= 0.2:\n",
    "                print(f'{f} predicting {target}\\nkappa score: {score}\\n')"
   ]
  },
  {
   "cell_type": "code",
   "execution_count": 123,
   "metadata": {},
   "outputs": [
    {
     "name": "stdout",
     "output_type": "stream",
     "text": [
      "mindful_1 predicting efficacy_target\n",
      "kappa score: 0.22552969963516972\n",
      "\n"
     ]
    },
    {
     "name": "stderr",
     "output_type": "stream",
     "text": [
      "/anaconda3/envs/eammi/lib/python3.7/site-packages/sklearn/model_selection/_split.py:657: Warning: The least populated class in y has only 1 members, which is too few. The minimum number of members in any class cannot be less than n_splits=5.\n",
      "  % (min_groups, self.n_splits)), Warning)\n"
     ]
    },
    {
     "name": "stdout",
     "output_type": "stream",
     "text": [
      "support_1 predicting swb_target\n",
      "kappa score: 0.26775235724295954\n",
      "\n"
     ]
    },
    {
     "name": "stderr",
     "output_type": "stream",
     "text": [
      "/anaconda3/envs/eammi/lib/python3.7/site-packages/sklearn/model_selection/_split.py:657: Warning: The least populated class in y has only 1 members, which is too few. The minimum number of members in any class cannot be less than n_splits=5.\n",
      "  % (min_groups, self.n_splits)), Warning)\n",
      "/anaconda3/envs/eammi/lib/python3.7/site-packages/sklearn/model_selection/_split.py:657: Warning: The least populated class in y has only 1 members, which is too few. The minimum number of members in any class cannot be less than n_splits=5.\n",
      "  % (min_groups, self.n_splits)), Warning)\n"
     ]
    }
   ],
   "source": [
    "gb_tests(df, feat_lists, targets)"
   ]
  },
  {
   "cell_type": "code",
   "execution_count": null,
   "metadata": {},
   "outputs": [],
   "source": []
  },
  {
   "cell_type": "code",
   "execution_count": 108,
   "metadata": {},
   "outputs": [],
   "source": [
    "std_df = pd.read_csv(datapath/std_feats)"
   ]
  },
  {
   "cell_type": "code",
   "execution_count": 115,
   "metadata": {},
   "outputs": [],
   "source": [
    "high_std = [c for c in std_df.columns if 'swb' not in c]"
   ]
  },
  {
   "cell_type": "code",
   "execution_count": 124,
   "metadata": {},
   "outputs": [
    {
     "name": "stdout",
     "output_type": "stream",
     "text": [
      "moa1#1_4 predicting efficacy_target\n",
      "kappa score: 0.20505141939339921\n",
      "\n"
     ]
    },
    {
     "name": "stderr",
     "output_type": "stream",
     "text": [
      "/anaconda3/envs/eammi/lib/python3.7/site-packages/sklearn/model_selection/_split.py:657: Warning: The least populated class in y has only 1 members, which is too few. The minimum number of members in any class cannot be less than n_splits=5.\n",
      "  % (min_groups, self.n_splits)), Warning)\n"
     ]
    }
   ],
   "source": [
    "logreg_tests(df, [high_std], targets)"
   ]
  },
  {
   "cell_type": "code",
   "execution_count": null,
   "metadata": {},
   "outputs": [],
   "source": []
  }
 ],
 "metadata": {
  "kernelspec": {
   "display_name": "Python 3",
   "language": "python",
   "name": "python3"
  },
  "language_info": {
   "codemirror_mode": {
    "name": "ipython",
    "version": 3
   },
   "file_extension": ".py",
   "mimetype": "text/x-python",
   "name": "python",
   "nbconvert_exporter": "python",
   "pygments_lexer": "ipython3",
   "version": "3.7.4"
  }
 },
 "nbformat": 4,
 "nbformat_minor": 4
}
