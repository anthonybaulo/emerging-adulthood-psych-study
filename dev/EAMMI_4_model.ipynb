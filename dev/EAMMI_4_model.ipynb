{
 "cells": [
  {
   "cell_type": "code",
   "execution_count": 78,
   "metadata": {},
   "outputs": [],
   "source": [
    "import pandas as pd\n",
    "import numpy as np\n",
    "import matplotlib.pyplot as plt\n",
    "\n",
    "from pathlib import Path\n",
    "\n",
    "from sklearn.preprocessing import MinMaxScaler, StandardScaler\n",
    "from sklearn.linear_model import LogisticRegression\n",
    "from sklearn.ensemble import GradientBoostingClassifier, RandomForestClassifier\n",
    "from sklearn.model_selection import cross_val_score\n",
    "\n",
    "from sklearn.utils.testing import ignore_warnings\n",
    "from sklearn.exceptions import ConvergenceWarning\n",
    "\n",
    "import warnings\n",
    "warnings.filterwarnings(\"ignore\", category=DeprecationWarning)\n",
    "\n",
    "pd.set_option('display.max_columns', None, 'display.max_rows', None)"
   ]
  },
  {
   "cell_type": "code",
   "execution_count": 6,
   "metadata": {},
   "outputs": [],
   "source": [
    "imagepath = Path('../images')\n",
    "datapath = Path('../data')\n",
    "full = 'cleaned_full_1.csv'"
   ]
  },
  {
   "cell_type": "code",
   "execution_count": 31,
   "metadata": {},
   "outputs": [],
   "source": [
    "df = pd.read_csv(datapath/full)"
   ]
  },
  {
   "cell_type": "code",
   "execution_count": 45,
   "metadata": {},
   "outputs": [],
   "source": [
    "# Lists of individual sections\n",
    "\n",
    "moa = [c for c in df.columns if 'moa' in c]\n",
    "idea = [c for c in df.columns if 'idea' in c]\n",
    "swb = [c for c in df.columns if 'swb' in c]\n",
    "mindful = [c for c in df.columns if 'mindful' in c]\n",
    "belong = [c for c in df.columns if 'belong' in c]\n",
    "efficacy = [c for c in df.columns if 'efficacy' in c]\n",
    "support = [c for c in df.columns if 'support' in c]\n",
    "transgres = [c for c in df.columns if 'transgres' in c]\n",
    "exploit = [c for c in df.columns if 'exploit' in c]\n",
    "stress = [c for c in df.columns if 'stress' in c]\n",
    "marriage = [c for c in df.columns if 'marriage' in c]\n",
    "\n",
    "# demographics\n",
    "socmedia = [c for c in df.columns if 'socmedia' in c]\n",
    "usdream = [c for c in df.columns if 'usdream' in c]\n",
    "demo = [c for c in df.columns if 'demo' in c]\n",
    "disability = [c for c in df.columns if 'disability' in c]\n",
    "phys = [c for c in df.columns if 'phys' in c]\n",
    "\n",
    "# Cols to use as features\n",
    "skip = ['bias', 'duration']\n",
    "mind_feats = [c for c in mindful if not any(s in c for s in skip)]\n",
    "sup_feats = [c for c in support if not any(s in c for s in skip)]\n",
    "\n",
    "sibs = [c for c in demo if 'sibs' in c]\n",
    "parents = [c for c in demo if 'parents' in c]\n",
    "fam_feats = parents+sibs\n",
    "\n",
    "feat_lists = [mind_feats, sup_feats, fam_feats]\n",
    "\n",
    "# Cols to use as targets\n",
    "targets = [c for c in df.columns if 'target' in c] + ['belong_now', 'demo_politics']\n"
   ]
  },
  {
   "cell_type": "code",
   "execution_count": 70,
   "metadata": {},
   "outputs": [
    {
     "data": {
      "text/html": [
       "<div>\n",
       "<style scoped>\n",
       "    .dataframe tbody tr th:only-of-type {\n",
       "        vertical-align: middle;\n",
       "    }\n",
       "\n",
       "    .dataframe tbody tr th {\n",
       "        vertical-align: top;\n",
       "    }\n",
       "\n",
       "    .dataframe thead th {\n",
       "        text-align: right;\n",
       "    }\n",
       "</style>\n",
       "<table border=\"1\" class=\"dataframe\">\n",
       "  <thead>\n",
       "    <tr style=\"text-align: right;\">\n",
       "      <th></th>\n",
       "      <th>swb_target</th>\n",
       "      <th>efficacy_target</th>\n",
       "      <th>phys_target</th>\n",
       "      <th>stress_target</th>\n",
       "      <th>belong_now</th>\n",
       "      <th>demo_politics</th>\n",
       "    </tr>\n",
       "  </thead>\n",
       "  <tbody>\n",
       "    <tr>\n",
       "      <td>0</td>\n",
       "      <td>neutral</td>\n",
       "      <td>very_high</td>\n",
       "      <td>med</td>\n",
       "      <td>high</td>\n",
       "      <td>4.0</td>\n",
       "      <td>2.0</td>\n",
       "    </tr>\n",
       "    <tr>\n",
       "      <td>1</td>\n",
       "      <td>neutral</td>\n",
       "      <td>very_high</td>\n",
       "      <td>med</td>\n",
       "      <td>high</td>\n",
       "      <td>4.0</td>\n",
       "      <td>1.0</td>\n",
       "    </tr>\n",
       "  </tbody>\n",
       "</table>\n",
       "</div>"
      ],
      "text/plain": [
       "  swb_target efficacy_target phys_target stress_target  belong_now  \\\n",
       "0    neutral       very_high         med          high         4.0   \n",
       "1    neutral       very_high         med          high         4.0   \n",
       "\n",
       "   demo_politics  \n",
       "0            2.0  \n",
       "1            1.0  "
      ]
     },
     "execution_count": 70,
     "metadata": {},
     "output_type": "execute_result"
    }
   ],
   "source": [
    "df[targets].head(2)"
   ]
  },
  {
   "cell_type": "code",
   "execution_count": 79,
   "metadata": {},
   "outputs": [],
   "source": [
    "@ignore_warnings(category=ConvergenceWarning)\n",
    "def logreg_tests(df, feat_lists, targets):\n",
    "    for feat_list in feat_lists:\n",
    "        f = feat_list[0]\n",
    "        for target in targets:\n",
    "            X = StandardScaler().fit_transform(df[feat_list])\n",
    "            y = df[target].values\n",
    "\n",
    "            model = LogisticRegression(solver='lbfgs', multi_class='auto')\n",
    "            acc = cross_val_score(model, X, y, cv=5)\n",
    "\n",
    "            print(f'{f} predicting {target}\\naccuracy: {np.mean(acc)}\\n')"
   ]
  },
  {
   "cell_type": "code",
   "execution_count": 80,
   "metadata": {},
   "outputs": [
    {
     "name": "stdout",
     "output_type": "stream",
     "text": [
      "mindful_1 predicting swb_target\n",
      "accuracy: 0.5587416742237092\n",
      "\n",
      "mindful_1 predicting efficacy_target\n",
      "accuracy: 0.5909378805550362\n",
      "\n",
      "mindful_1 predicting phys_target\n",
      "accuracy: 0.8290880384933462\n",
      "\n",
      "mindful_1 predicting stress_target\n",
      "accuracy: 0.7130115530160639\n",
      "\n",
      "mindful_1 predicting belong_now\n",
      "accuracy: 0.4412830429917286\n",
      "\n"
     ]
    },
    {
     "name": "stderr",
     "output_type": "stream",
     "text": [
      "/anaconda3/envs/eammi/lib/python3.7/site-packages/sklearn/model_selection/_split.py:657: Warning: The least populated class in y has only 1 members, which is too few. The minimum number of members in any class cannot be less than n_splits=5.\n",
      "  % (min_groups, self.n_splits)), Warning)\n"
     ]
    },
    {
     "name": "stdout",
     "output_type": "stream",
     "text": [
      "mindful_1 predicting demo_politics\n",
      "accuracy: 0.24521559500171422\n",
      "\n",
      "support_1 predicting swb_target\n",
      "accuracy: 0.6086387942086995\n",
      "\n",
      "support_1 predicting efficacy_target\n",
      "accuracy: 0.5566140878355677\n",
      "\n",
      "support_1 predicting phys_target\n",
      "accuracy: 0.8287346816028869\n",
      "\n",
      "support_1 predicting stress_target\n",
      "accuracy: 0.7144400170413252\n",
      "\n",
      "support_1 predicting belong_now\n",
      "accuracy: 0.45717105787287354\n",
      "\n"
     ]
    },
    {
     "name": "stderr",
     "output_type": "stream",
     "text": [
      "/anaconda3/envs/eammi/lib/python3.7/site-packages/sklearn/model_selection/_split.py:657: Warning: The least populated class in y has only 1 members, which is too few. The minimum number of members in any class cannot be less than n_splits=5.\n",
      "  % (min_groups, self.n_splits)), Warning)\n"
     ]
    },
    {
     "name": "stdout",
     "output_type": "stream",
     "text": [
      "support_1 predicting demo_politics\n",
      "accuracy: 0.2402616309181868\n",
      "\n",
      "demo_parents0 predicting swb_target\n",
      "accuracy: 0.49788110947809494\n",
      "\n",
      "demo_parents0 predicting efficacy_target\n",
      "accuracy: 0.5102460812603307\n",
      "\n",
      "demo_parents0 predicting phys_target\n",
      "accuracy: 0.8290880384933462\n",
      "\n",
      "demo_parents0 predicting stress_target\n",
      "accuracy: 0.7147933739317847\n",
      "\n",
      "demo_parents0 predicting belong_now\n",
      "accuracy: 0.4430373523730326\n",
      "\n"
     ]
    },
    {
     "name": "stderr",
     "output_type": "stream",
     "text": [
      "/anaconda3/envs/eammi/lib/python3.7/site-packages/sklearn/model_selection/_split.py:657: Warning: The least populated class in y has only 1 members, which is too few. The minimum number of members in any class cannot be less than n_splits=5.\n",
      "  % (min_groups, self.n_splits)), Warning)\n"
     ]
    },
    {
     "name": "stdout",
     "output_type": "stream",
     "text": [
      "demo_parents0 predicting demo_politics\n",
      "accuracy: 0.24523187150191683\n",
      "\n"
     ]
    }
   ],
   "source": [
    "logreg_tests(df, feat_lists, targets)"
   ]
  },
  {
   "cell_type": "code",
   "execution_count": 81,
   "metadata": {},
   "outputs": [],
   "source": [
    "def rf_tests(df, feat_lists, targets):\n",
    "    for feat_list in feat_lists:\n",
    "        f = feat_list[0]\n",
    "        for target in targets:\n",
    "            X = df[feat_list].values\n",
    "            y = df[target].values\n",
    "\n",
    "            model = RandomForestClassifier(n_estimators=100)\n",
    "            acc = cross_val_score(model, X, y, cv=5)\n",
    "\n",
    "            print(f'{f} predicting {target}\\naccuracy: {np.mean(acc)}\\n')"
   ]
  },
  {
   "cell_type": "code",
   "execution_count": 82,
   "metadata": {},
   "outputs": [
    {
     "name": "stdout",
     "output_type": "stream",
     "text": [
      "mindful_1 predicting swb_target\n",
      "accuracy: 0.5148585008912099\n",
      "\n",
      "mindful_1 predicting efficacy_target\n",
      "accuracy: 0.5902299314776386\n",
      "\n",
      "mindful_1 predicting phys_target\n",
      "accuracy: 0.8259128386336867\n",
      "\n",
      "mindful_1 predicting stress_target\n",
      "accuracy: 0.7048743202265493\n",
      "\n",
      "mindful_1 predicting belong_now\n",
      "accuracy: 0.42323797178134326\n",
      "\n"
     ]
    },
    {
     "name": "stderr",
     "output_type": "stream",
     "text": [
      "/anaconda3/envs/eammi/lib/python3.7/site-packages/sklearn/model_selection/_split.py:657: Warning: The least populated class in y has only 1 members, which is too few. The minimum number of members in any class cannot be less than n_splits=5.\n",
      "  % (min_groups, self.n_splits)), Warning)\n"
     ]
    },
    {
     "name": "stdout",
     "output_type": "stream",
     "text": [
      "mindful_1 predicting demo_politics\n",
      "accuracy: 0.21943509597365654\n",
      "\n",
      "support_1 predicting swb_target\n",
      "accuracy: 0.5725432314956691\n",
      "\n",
      "support_1 predicting efficacy_target\n",
      "accuracy: 0.552001661551386\n",
      "\n",
      "support_1 predicting phys_target\n",
      "accuracy: 0.8117384657795153\n",
      "\n",
      "support_1 predicting stress_target\n",
      "accuracy: 0.6744693381450017\n",
      "\n",
      "support_1 predicting belong_now\n",
      "accuracy: 0.41470050471559405\n",
      "\n"
     ]
    },
    {
     "name": "stderr",
     "output_type": "stream",
     "text": [
      "/anaconda3/envs/eammi/lib/python3.7/site-packages/sklearn/model_selection/_split.py:657: Warning: The least populated class in y has only 1 members, which is too few. The minimum number of members in any class cannot be less than n_splits=5.\n",
      "  % (min_groups, self.n_splits)), Warning)\n"
     ]
    },
    {
     "name": "stdout",
     "output_type": "stream",
     "text": [
      "support_1 predicting demo_politics\n",
      "accuracy: 0.18933996632156286\n",
      "\n",
      "demo_parents0 predicting swb_target\n",
      "accuracy: 0.4854892273054192\n",
      "\n",
      "demo_parents0 predicting efficacy_target\n",
      "accuracy: 0.5021357965633031\n",
      "\n",
      "demo_parents0 predicting phys_target\n",
      "accuracy: 0.824138535949678\n",
      "\n",
      "demo_parents0 predicting stress_target\n",
      "accuracy: 0.7098426183494976\n",
      "\n",
      "demo_parents0 predicting belong_now\n",
      "accuracy: 0.41613080301073013\n",
      "\n"
     ]
    },
    {
     "name": "stderr",
     "output_type": "stream",
     "text": [
      "/anaconda3/envs/eammi/lib/python3.7/site-packages/sklearn/model_selection/_split.py:657: Warning: The least populated class in y has only 1 members, which is too few. The minimum number of members in any class cannot be less than n_splits=5.\n",
      "  % (min_groups, self.n_splits)), Warning)\n"
     ]
    },
    {
     "name": "stdout",
     "output_type": "stream",
     "text": [
      "demo_parents0 predicting demo_politics\n",
      "accuracy: 0.22578309539063368\n",
      "\n"
     ]
    }
   ],
   "source": [
    "rf_tests(df, feat_lists, targets)"
   ]
  },
  {
   "cell_type": "code",
   "execution_count": 83,
   "metadata": {},
   "outputs": [],
   "source": [
    "def gb_tests(df, feat_lists, targets):\n",
    "    for feat_list in feat_lists:\n",
    "        f = feat_list[0]\n",
    "        for target in targets:\n",
    "            X = df[feat_list].values\n",
    "            y = df[target].values\n",
    "\n",
    "            model = GradientBoostingClassifier(learning_rate=0.01, n_estimators=100)\n",
    "            acc = cross_val_score(model, X, y, cv=3)\n",
    "\n",
    "            print(f'{f} predicting {target}\\naccuracy: {np.mean(acc)}\\n')"
   ]
  },
  {
   "cell_type": "code",
   "execution_count": null,
   "metadata": {},
   "outputs": [
    {
     "name": "stdout",
     "output_type": "stream",
     "text": [
      "mindful_1 predicting swb_target\n",
      "accuracy: 0.5520125081054845\n",
      "\n",
      "mindful_1 predicting efficacy_target\n",
      "accuracy: 0.6160678221545054\n",
      "\n",
      "mindful_1 predicting phys_target\n",
      "accuracy: 0.8290876717168176\n",
      "\n",
      "mindful_1 predicting stress_target\n",
      "accuracy: 0.7147920831907394\n",
      "\n",
      "mindful_1 predicting belong_now\n",
      "accuracy: 0.44090770918353833\n",
      "\n"
     ]
    },
    {
     "name": "stderr",
     "output_type": "stream",
     "text": [
      "/anaconda3/envs/eammi/lib/python3.7/site-packages/sklearn/model_selection/_split.py:657: Warning: The least populated class in y has only 1 members, which is too few. The minimum number of members in any class cannot be less than n_splits=3.\n",
      "  % (min_groups, self.n_splits)), Warning)\n"
     ]
    }
   ],
   "source": [
    "gb_tests(df, feat_lists, targets)"
   ]
  },
  {
   "cell_type": "code",
   "execution_count": null,
   "metadata": {},
   "outputs": [],
   "source": []
  }
 ],
 "metadata": {
  "kernelspec": {
   "display_name": "Python 3",
   "language": "python",
   "name": "python3"
  },
  "language_info": {
   "codemirror_mode": {
    "name": "ipython",
    "version": 3
   },
   "file_extension": ".py",
   "mimetype": "text/x-python",
   "name": "python",
   "nbconvert_exporter": "python",
   "pygments_lexer": "ipython3",
   "version": "3.7.4"
  }
 },
 "nbformat": 4,
 "nbformat_minor": 4
}
