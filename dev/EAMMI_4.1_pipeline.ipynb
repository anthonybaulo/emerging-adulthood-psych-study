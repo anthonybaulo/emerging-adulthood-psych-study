{
 "cells": [
  {
   "cell_type": "code",
   "execution_count": 83,
   "metadata": {},
   "outputs": [],
   "source": [
    "import pandas as pd\n",
    "import numpy as np\n",
    "import matplotlib.pyplot as plt\n",
    "import matplotlib.cm as cm \n",
    "\n",
    "from pathlib import Path\n",
    "\n",
    "from sklearn.model_selection import train_test_split\n",
    "from sklearn.preprocessing import MinMaxScaler, StandardScaler\n",
    "from sklearn.linear_model import LogisticRegression\n",
    "from sklearn.ensemble import GradientBoostingClassifier, RandomForestClassifier\n",
    "from sklearn.model_selection import cross_val_score\n",
    "from sklearn.decomposition import NMF\n",
    "from sklearn.metrics import confusion_matrix, SCORERS\n",
    "from sklearn.utils.multiclass import unique_labels\n",
    "\n",
    "from scipy.cluster.hierarchy import dendrogram, linkage, fcluster\n",
    "from scipy.stats import chi2_contingency\n",
    "\n",
    "\n",
    "pd.set_option('display.max_columns', None, 'display.max_rows', None)"
   ]
  },
  {
   "cell_type": "code",
   "execution_count": 2,
   "metadata": {},
   "outputs": [],
   "source": [
    "imagepath = Path('../images')\n",
    "datapath = Path('../data')\n",
    "full = 'cleaned_full_1.csv'\n",
    "survey = 'features_not_scaled.csv'\n",
    "std_feats = 'high_std_feats.csv'\n",
    "W_mat = 'w_matrix_7_topics.csv'"
   ]
  },
  {
   "cell_type": "code",
   "execution_count": 8,
   "metadata": {},
   "outputs": [],
   "source": [
    "full_df = pd.read_csv(datapath/full)\n",
    "df = pd.read_csv(datapath/survey)\n",
    "W_df = pd.read_csv(datapath/W_mat)"
   ]
  },
  {
   "cell_type": "code",
   "execution_count": 82,
   "metadata": {
    "jupyter": {
     "source_hidden": true
    }
   },
   "outputs": [],
   "source": [
    "def plot_confusion_matrix(y_true, y_pred,\n",
    "                          normalize=False,\n",
    "                          title=None,\n",
    "                          cmap=plt.cm.Blues):\n",
    "    \"\"\"\n",
    "    This function prints and plots the confusion matrix.\n",
    "    Normalization can be applied by setting `normalize=True`.\n",
    "    \"\"\"\n",
    "    if not title:\n",
    "        if normalize:\n",
    "            title = 'Normalized confusion matrix'\n",
    "        else:\n",
    "            title = 'Confusion matrix, without normalization'\n",
    "\n",
    "    # Compute confusion matrix\n",
    "    cm = confusion_matrix(y_true, y_pred)\n",
    "    # Only use the labels that appear in the data\n",
    "    classes = unique_labels(y_true, y_pred)\n",
    "    if normalize:\n",
    "        cm = cm.astype('float') / cm.sum(axis=1)[:, np.newaxis]\n",
    "\n",
    "#     print(cm)\n",
    "\n",
    "    fig, ax = plt.subplots(figsize=(6,6))\n",
    "    im = ax.matshow(cm, interpolation='nearest', cmap=cmap)\n",
    "    ax.figure.colorbar(im, ax=ax)\n",
    "    # We want to show all ticks...\n",
    "    ax.set(xticks=np.arange(cm.shape[1]),\n",
    "           yticks=np.arange(cm.shape[0]),\n",
    "           # ... and label them with the respective list entries\n",
    "           xticklabels=classes, yticklabels=classes,\n",
    "           title=title,\n",
    "           ylabel='True label',\n",
    "           xlabel='Predicted label')\n",
    "\n",
    "    # Rotate the tick labels and set their alignment.\n",
    "    plt.setp(ax.get_xticklabels(), rotation=45, ha=\"right\",\n",
    "             rotation_mode=\"anchor\")\n",
    "\n",
    "    # Loop over data dimensions and create text annotations.\n",
    "    fmt = '.2f' if normalize else 'd'\n",
    "    thresh = cm.max() / 2.\n",
    "    for i in range(cm.shape[0]):\n",
    "        for j in range(cm.shape[1]):\n",
    "            ax.text(j, i, format(cm[i, j], fmt),\n",
    "                    ha=\"center\", va=\"center\",\n",
    "                    color=\"white\" if cm[i, j] > thresh else \"black\")\n",
    "    fig.tight_layout()\n",
    "    return ax"
   ]
  },
  {
   "cell_type": "code",
   "execution_count": 80,
   "metadata": {},
   "outputs": [],
   "source": [
    "def rf_predict(df, full_df, n_topics, prefix='swb'):\n",
    "    keep = [c for c in df.columns if prefix not in c]\n",
    "    X = MinMaxScaler().fit_transform(df[keep])  \n",
    "\n",
    "    nmf = NMF(n_components=n_topics, random_state=0,\n",
    "              alpha=.3, l1_ratio=.5).fit(X)\n",
    "\n",
    "    W = nmf.transform(X)\n",
    "    \n",
    "    target = prefix + '_target'\n",
    "    y = full_df[target]\n",
    "\n",
    "    model = RandomForestClassifier(n_estimators=100)\n",
    "    score = cross_val_score(model, W, y, cv=5, scoring='f1_weighted', n_jobs=-1)\n",
    "    score = np.mean(score)\n",
    "    print(f'f1_weighted: {score}')\n",
    "    \n",
    "    X_train, X_test, y_train, y_test = train_test_split(X, y, test_size=0.25, random_state=0)\n",
    "    model.fit(X_train, y_train)\n",
    "    preds = model.predict(X_test)\n",
    "    \n",
    "    ax = plot_confusion_matrix(y_test, preds)\n",
    "    \n",
    "    return confusion_matrix(y_test, preds)\n"
   ]
  },
  {
   "cell_type": "code",
   "execution_count": 81,
   "metadata": {},
   "outputs": [
    {
     "name": "stdout",
     "output_type": "stream",
     "text": [
      "f1_weighted: 0.6385583102669159\n"
     ]
    },
    {
     "data": {
      "image/png": "[encoded data removed]",
      "text/plain": [
       "<Figure size 432x432 with 2 Axes>"
      ]
     },
     "metadata": {
      "needs_background": "light"
     },
     "output_type": "display_data"
    }
   ],
   "source": [
    "cm = rf_predict(df, full_df, 7, prefix='swb');"
   ]
  },
  {
   "cell_type": "markdown",
   "metadata": {},
   "source": [
    "# Chi Square"
   ]
  },
  {
   "cell_type": "code",
   "execution_count": 114,
   "metadata": {},
   "outputs": [],
   "source": [
    "# Run nmf to get W\n",
    "prefix='swb'\n",
    "n_topics=7\n",
    "\n",
    "keep = [c for c in df.columns if prefix not in c]\n",
    "\n",
    "X = MinMaxScaler().fit_transform(df[keep])  \n",
    "\n",
    "nmf = NMF(n_components=n_topics, random_state=0,\n",
    "          alpha=.3, l1_ratio=.5).fit(X)\n",
    "\n",
    "W = nmf.transform(X)\n",
    "\n",
    "# Get heirarcical clusters/labels from W\n",
    "X = MinMaxScaler().fit_transform(W_df)\n",
    "Z = linkage(X, method='ward')\n",
    "labels = fcluster(Z, t=8, criterion='distance')"
   ]
  },
  {
   "cell_type": "code",
   "execution_count": 127,
   "metadata": {},
   "outputs": [],
   "source": [
    "# Number of clusters\n",
    "u_labels, count = np.unique(labels, return_counts=True)"
   ]
  },
  {
   "cell_type": "code",
   "execution_count": 175,
   "metadata": {},
   "outputs": [],
   "source": [
    "# Make df boolean based on labels\n",
    "# Get counts for each cluster\n",
    "\n",
    "swb_df = pd.DataFrame()\n",
    "\n",
    "for label in u_labels:\n",
    "    cond = (labels == label)\n",
    "    s = full_df.loc[cond,:]['swb_target'].value_counts().sort_index()\n",
    "    swb_df = swb_df.append(s, ignore_index=True)\n",
    "swb_df.insert(0, 'cluster', u_labels)\n"
   ]
  },
  {
   "cell_type": "code",
   "execution_count": 185,
   "metadata": {},
   "outputs": [],
   "source": [
    "# Compare C1 to others\n",
    "def chi2_to_df(df, u_labels):\n",
    "    for label in u_labels:\n",
    "        to_col = []\n",
    "        Cx = df[df.cluster==label].iloc[:,1:4].values\n",
    "        \n",
    "        for c in u_labels:\n",
    "            Cy = df[df.cluster==c].iloc[:,1:4].values\n",
    "            chi2, p, ddof, expected = chi2_contingency([Cx,Cy])\n",
    "            to_col.append(round(p, 2))\n",
    "        \n",
    "        df[f'vs {label}'] = to_col\n",
    "            \n",
    "    return df"
   ]
  },
  {
   "cell_type": "code",
   "execution_count": 187,
   "metadata": {},
   "outputs": [],
   "source": [
    "swb_df = chi2_to_df(swb_df, u_labels)"
   ]
  },
  {
   "cell_type": "code",
   "execution_count": 188,
   "metadata": {},
   "outputs": [
    {
     "data": {
      "text/html": [
       "<div>\n",
       "<style scoped>\n",
       "    .dataframe tbody tr th:only-of-type {\n",
       "        vertical-align: middle;\n",
       "    }\n",
       "\n",
       "    .dataframe tbody tr th {\n",
       "        vertical-align: top;\n",
       "    }\n",
       "\n",
       "    .dataframe thead th {\n",
       "        text-align: right;\n",
       "    }\n",
       "</style>\n",
       "<table border=\"1\" class=\"dataframe\">\n",
       "  <thead>\n",
       "    <tr style=\"text-align: right;\">\n",
       "      <th></th>\n",
       "      <th>cluster</th>\n",
       "      <th>high</th>\n",
       "      <th>low</th>\n",
       "      <th>neutral</th>\n",
       "      <th>vs 1</th>\n",
       "      <th>vs 2</th>\n",
       "      <th>vs 3</th>\n",
       "      <th>vs 4</th>\n",
       "      <th>vs 5</th>\n",
       "      <th>vs 6</th>\n",
       "    </tr>\n",
       "  </thead>\n",
       "  <tbody>\n",
       "    <tr>\n",
       "      <td>0</td>\n",
       "      <td>1</td>\n",
       "      <td>56.0</td>\n",
       "      <td>156.0</td>\n",
       "      <td>276.0</td>\n",
       "      <td>1.0</td>\n",
       "      <td>0.00</td>\n",
       "      <td>0.00</td>\n",
       "      <td>0.00</td>\n",
       "      <td>0.00</td>\n",
       "      <td>0.00</td>\n",
       "    </tr>\n",
       "    <tr>\n",
       "      <td>1</td>\n",
       "      <td>2</td>\n",
       "      <td>154.0</td>\n",
       "      <td>6.0</td>\n",
       "      <td>130.0</td>\n",
       "      <td>0.0</td>\n",
       "      <td>1.00</td>\n",
       "      <td>0.80</td>\n",
       "      <td>0.83</td>\n",
       "      <td>0.57</td>\n",
       "      <td>0.52</td>\n",
       "    </tr>\n",
       "    <tr>\n",
       "      <td>2</td>\n",
       "      <td>3</td>\n",
       "      <td>219.0</td>\n",
       "      <td>12.0</td>\n",
       "      <td>186.0</td>\n",
       "      <td>0.0</td>\n",
       "      <td>0.80</td>\n",
       "      <td>1.00</td>\n",
       "      <td>0.91</td>\n",
       "      <td>0.85</td>\n",
       "      <td>0.77</td>\n",
       "    </tr>\n",
       "    <tr>\n",
       "      <td>3</td>\n",
       "      <td>4</td>\n",
       "      <td>201.0</td>\n",
       "      <td>10.0</td>\n",
       "      <td>161.0</td>\n",
       "      <td>0.0</td>\n",
       "      <td>0.83</td>\n",
       "      <td>0.91</td>\n",
       "      <td>1.00</td>\n",
       "      <td>0.88</td>\n",
       "      <td>0.87</td>\n",
       "    </tr>\n",
       "    <tr>\n",
       "      <td>4</td>\n",
       "      <td>5</td>\n",
       "      <td>296.0</td>\n",
       "      <td>18.0</td>\n",
       "      <td>237.0</td>\n",
       "      <td>0.0</td>\n",
       "      <td>0.57</td>\n",
       "      <td>0.85</td>\n",
       "      <td>0.88</td>\n",
       "      <td>1.00</td>\n",
       "      <td>0.98</td>\n",
       "    </tr>\n",
       "    <tr>\n",
       "      <td>5</td>\n",
       "      <td>6</td>\n",
       "      <td>384.0</td>\n",
       "      <td>23.0</td>\n",
       "      <td>301.0</td>\n",
       "      <td>0.0</td>\n",
       "      <td>0.52</td>\n",
       "      <td>0.77</td>\n",
       "      <td>0.87</td>\n",
       "      <td>0.98</td>\n",
       "      <td>1.00</td>\n",
       "    </tr>\n",
       "  </tbody>\n",
       "</table>\n",
       "</div>"
      ],
      "text/plain": [
       "   cluster   high    low  neutral  vs 1  vs 2  vs 3  vs 4  vs 5  vs 6\n",
       "0        1   56.0  156.0    276.0   1.0  0.00  0.00  0.00  0.00  0.00\n",
       "1        2  154.0    6.0    130.0   0.0  1.00  0.80  0.83  0.57  0.52\n",
       "2        3  219.0   12.0    186.0   0.0  0.80  1.00  0.91  0.85  0.77\n",
       "3        4  201.0   10.0    161.0   0.0  0.83  0.91  1.00  0.88  0.87\n",
       "4        5  296.0   18.0    237.0   0.0  0.57  0.85  0.88  1.00  0.98\n",
       "5        6  384.0   23.0    301.0   0.0  0.52  0.77  0.87  0.98  1.00"
      ]
     },
     "execution_count": 188,
     "metadata": {},
     "output_type": "execute_result"
    }
   ],
   "source": [
    "swb_df"
   ]
  },
  {
   "cell_type": "code",
   "execution_count": null,
   "metadata": {},
   "outputs": [],
   "source": []
  }
 ],
 "metadata": {
  "kernelspec": {
   "display_name": "Python 3",
   "language": "python",
   "name": "python3"
  },
  "language_info": {
   "codemirror_mode": {
    "name": "ipython",
    "version": 3
   },
   "file_extension": ".py",
   "mimetype": "text/x-python",
   "name": "python",
   "nbconvert_exporter": "python",
   "pygments_lexer": "ipython3",
   "version": "3.7.4"
  }
 },
 "nbformat": 4,
 "nbformat_minor": 4
}
